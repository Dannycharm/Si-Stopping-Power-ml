{
 "cells": [
  {
   "cell_type": "markdown",
   "metadata": {},
   "source": [
    "# Evaluate Model Performance\n",
    "We want to compare the speed of the model to that of TD-DFT"
   ]
  },
  {
   "cell_type": "code",
   "execution_count": 1,
   "metadata": {
    "execution": {
     "iopub.execute_input": "2022-08-18T15:20:05.175919Z",
     "iopub.status.busy": "2022-08-18T15:20:05.173345Z",
     "iopub.status.idle": "2022-08-18T15:20:05.412486Z",
     "shell.execute_reply": "2022-08-18T15:20:05.412195Z"
    }
   },
   "outputs": [],
   "source": [
    "%matplotlib inline\n",
    "from matplotlib import pyplot as plt\n",
    "from glob import glob\n",
    "import pickle as pkl\n",
    "import pandas as pd\n",
    "import numpy as np\n",
    "import time\n",
    "import os\n",
    "import re"
   ]
  },
  {
   "cell_type": "code",
   "execution_count": 2,
   "metadata": {
    "execution": {
     "iopub.execute_input": "2022-08-18T15:20:05.414178Z",
     "iopub.status.busy": "2022-08-18T15:20:05.413947Z",
     "iopub.status.idle": "2022-08-18T15:20:05.415328Z",
     "shell.execute_reply": "2022-08-18T15:20:05.415103Z"
    }
   },
   "outputs": [],
   "source": [
    "os.environ[\"OMP_NUM_THREADS\"] = \"1\""
   ]
  },
  {
   "cell_type": "markdown",
   "metadata": {},
   "source": [
    "Things to change"
   ]
  },
  {
   "cell_type": "code",
   "execution_count": 3,
   "metadata": {
    "execution": {
     "iopub.execute_input": "2022-08-18T15:20:05.416880Z",
     "iopub.status.busy": "2022-08-18T15:20:05.416661Z",
     "iopub.status.idle": "2022-08-18T15:20:05.417770Z",
     "shell.execute_reply": "2022-08-18T15:20:05.417978Z"
    }
   },
   "outputs": [],
   "source": [
    "traj_path = os.path.join('..', 'datasets', '256_Al', 'Dv1.0')"
   ]
  },
  {
   "cell_type": "markdown",
   "metadata": {},
   "source": [
    "## Read in Files\n",
    "We need the random trajectory data, and the trajectory computer"
   ]
  },
  {
   "cell_type": "code",
   "execution_count": 4,
   "metadata": {
    "execution": {
     "iopub.execute_input": "2022-08-18T15:20:05.419464Z",
     "iopub.status.busy": "2022-08-18T15:20:05.419235Z",
     "iopub.status.idle": "2022-08-18T15:20:05.467679Z",
     "shell.execute_reply": "2022-08-18T15:20:05.467418Z"
    }
   },
   "outputs": [],
   "source": [
    "random_traj = pd.read_pickle(os.path.join('data', 'random_data.pkl.gz'))"
   ]
  },
  {
   "cell_type": "code",
   "execution_count": 5,
   "metadata": {
    "execution": {
     "iopub.execute_input": "2022-08-18T15:20:05.469461Z",
     "iopub.status.busy": "2022-08-18T15:20:05.469220Z",
     "iopub.status.idle": "2022-08-18T15:20:05.475467Z",
     "shell.execute_reply": "2022-08-18T15:20:05.475712Z"
    }
   },
   "outputs": [],
   "source": [
    "channel_traj = pd.read_pickle(os.path.join('data', 'channel_data.pkl.gz'))"
   ]
  },
  {
   "cell_type": "code",
   "execution_count": 6,
   "metadata": {
    "execution": {
     "iopub.execute_input": "2022-08-18T15:20:05.477405Z",
     "iopub.status.busy": "2022-08-18T15:20:05.477159Z",
     "iopub.status.idle": "2022-08-18T15:20:06.772419Z",
     "shell.execute_reply": "2022-08-18T15:20:06.772655Z"
    }
   },
   "outputs": [],
   "source": [
    "traj_computer = pkl.load(open('traj_computer.pkl', 'rb'))"
   ]
  },
  {
   "cell_type": "markdown",
   "metadata": {},
   "source": [
    "## Get the performance of TD-DFT\n",
    "Get the time per iteration of TD-DFT for the random trajectory"
   ]
  },
  {
   "cell_type": "code",
   "execution_count": 7,
   "metadata": {
    "execution": {
     "iopub.execute_input": "2022-08-18T15:20:06.775214Z",
     "iopub.status.busy": "2022-08-18T15:20:06.774828Z",
     "iopub.status.idle": "2022-08-18T15:20:06.778508Z",
     "shell.execute_reply": "2022-08-18T15:20:06.778824Z"
    }
   },
   "outputs": [
    {
     "name": "stdout",
     "output_type": "stream",
     "text": [
      "Found 6 trajectory files\n"
     ]
    }
   ],
   "source": [
    "random_traj_files = glob(os.path.join(traj_path, 'kp*.out'))\n",
    "print('Found {} trajectory files'.format(len(random_traj_files)))"
   ]
  },
  {
   "cell_type": "markdown",
   "metadata": {},
   "source": [
    "Make a function to get the CPU time per iteration"
   ]
  },
  {
   "cell_type": "code",
   "execution_count": 8,
   "metadata": {
    "execution": {
     "iopub.execute_input": "2022-08-18T15:20:06.781334Z",
     "iopub.status.busy": "2022-08-18T15:20:06.780966Z",
     "iopub.status.idle": "2022-08-18T15:20:06.782033Z",
     "shell.execute_reply": "2022-08-18T15:20:06.782268Z"
    }
   },
   "outputs": [],
   "source": [
    "cpu_count_re = re.compile('<mpi_processes count=\"(.*)\"')\n",
    "assert cpu_count_re.findall('<mpi_processes count=\"256\"') == ['256']"
   ]
  },
  {
   "cell_type": "code",
   "execution_count": 9,
   "metadata": {
    "execution": {
     "iopub.execute_input": "2022-08-18T15:20:06.784343Z",
     "iopub.status.busy": "2022-08-18T15:20:06.783968Z",
     "iopub.status.idle": "2022-08-18T15:20:06.785258Z",
     "shell.execute_reply": "2022-08-18T15:20:06.785004Z"
    }
   },
   "outputs": [],
   "source": [
    "timing_re = re.compile('max=\"(.*)\"')\n",
    "assert timing_re.findall('max=\"5\"') == [\"5\"]"
   ]
  },
  {
   "cell_type": "code",
   "execution_count": 10,
   "metadata": {
    "execution": {
     "iopub.execute_input": "2022-08-18T15:20:06.788210Z",
     "iopub.status.busy": "2022-08-18T15:20:06.787816Z",
     "iopub.status.idle": "2022-08-18T15:20:06.788892Z",
     "shell.execute_reply": "2022-08-18T15:20:06.789130Z"
    }
   },
   "outputs": [],
   "source": [
    "def get_iteration_cpu_times(file):\n",
    "    \"\"\"Get the CPU time per iteration\n",
    "    \n",
    "    Args:\n",
    "        file (str): path to file to be evaluated\n",
    "    Returns:\n",
    "        - ([float]) CPU time per iteration\n",
    "        - (int) number of cpus\"\"\"\n",
    "    \n",
    "    with open(file) as fp:\n",
    "        timings = []\n",
    "        for line in fp:\n",
    "            if \"<mpi_processes\" in line:\n",
    "                cpu_count = int(cpu_count_re.findall(line)[0])\n",
    "            if 'timing name=\"iteration\"' in line:\n",
    "                timings += [float(timing_re.findall(line)[0])]\n",
    "    \n",
    "    return np.multiply(timings, cpu_count), cpu_count"
   ]
  },
  {
   "cell_type": "markdown",
   "metadata": {},
   "source": [
    "Make sure it kind of agrees with the total simulation time (17334s, extracted by hand), which includes the startup cost"
   ]
  },
  {
   "cell_type": "code",
   "execution_count": 11,
   "metadata": {
    "execution": {
     "iopub.execute_input": "2022-08-18T15:20:06.791236Z",
     "iopub.status.busy": "2022-08-18T15:20:06.790849Z",
     "iopub.status.idle": "2022-08-18T15:20:06.986779Z",
     "shell.execute_reply": "2022-08-18T15:20:06.986476Z"
    }
   },
   "outputs": [],
   "source": [
    "timings, cpu_count = get_iteration_cpu_times(os.path.join(traj_path, 'kpgenlong_sd_psd_combo_r17_111_cutoff_50_4.out'))\n",
    "assert abs(timings.sum() / cpu_count - 17334) / 17334 < 0.10"
   ]
  },
  {
   "cell_type": "markdown",
   "metadata": {},
   "source": [
    "Get the timings for all steps"
   ]
  },
  {
   "cell_type": "code",
   "execution_count": 12,
   "metadata": {
    "execution": {
     "iopub.execute_input": "2022-08-18T15:20:07.007911Z",
     "iopub.status.busy": "2022-08-18T15:20:06.999272Z",
     "iopub.status.idle": "2022-08-18T15:20:08.006122Z",
     "shell.execute_reply": "2022-08-18T15:20:08.006362Z"
    }
   },
   "outputs": [
    {
     "name": "stdout",
     "output_type": "stream",
     "text": [
      "CPU times: user 926 ms, sys: 89.4 ms, total: 1.02 s\n",
      "Wall time: 1.02 s\n"
     ]
    }
   ],
   "source": [
    "%%time\n",
    "timings = np.hstack([get_iteration_cpu_times(f)[0] for f in random_traj_files])"
   ]
  },
  {
   "cell_type": "code",
   "execution_count": 13,
   "metadata": {
    "execution": {
     "iopub.execute_input": "2022-08-18T15:20:08.008701Z",
     "iopub.status.busy": "2022-08-18T15:20:08.008346Z",
     "iopub.status.idle": "2022-08-18T15:20:08.009626Z",
     "shell.execute_reply": "2022-08-18T15:20:08.009851Z"
    }
   },
   "outputs": [
    {
     "name": "stdout",
     "output_type": "stream",
     "text": [
      "Mean time: 2.01 CPU-hours\n"
     ]
    }
   ],
   "source": [
    "print('Mean time: {:.2f} CPU-hours'.format(timings.mean() / 3600))"
   ]
  },
  {
   "cell_type": "code",
   "execution_count": 14,
   "metadata": {
    "execution": {
     "iopub.execute_input": "2022-08-18T15:20:08.012723Z",
     "iopub.status.busy": "2022-08-18T15:20:08.012369Z",
     "iopub.status.idle": "2022-08-18T15:20:08.264615Z",
     "shell.execute_reply": "2022-08-18T15:20:08.264857Z"
    }
   },
   "outputs": [
    {
     "data": {
      "image/png": "[encoded data removed]",
      "text/plain": [
       "<Figure size 252x144 with 1 Axes>"
      ]
     },
     "metadata": {
      "needs_background": "light"
     },
     "output_type": "display_data"
    }
   ],
   "source": [
    "fig, ax = plt.subplots()\n",
    "\n",
    "ax.hist(timings / 3600, bins=np.linspace(1.9, 2.5, 32))\n",
    "\n",
    "ax.set_yscale('log')\n",
    "\n",
    "ax.set_xlabel('CPU-Hour / Iteration')\n",
    "ax.set_ylabel('Frequency')\n",
    "\n",
    "fig.set_size_inches(3.5, 2)"
   ]
  },
  {
   "cell_type": "markdown",
   "metadata": {},
   "source": [
    "*Finding*: The iterations reliably take around 2 CPU-hours each"
   ]
  },
  {
   "cell_type": "markdown",
   "metadata": {},
   "source": [
    "### Get the Timing for the Channel\n",
    "The other trajectory for the test"
   ]
  },
  {
   "cell_type": "code",
   "execution_count": 15,
   "metadata": {
    "execution": {
     "iopub.execute_input": "2022-08-18T15:20:08.267064Z",
     "iopub.status.busy": "2022-08-18T15:20:08.266757Z",
     "iopub.status.idle": "2022-08-18T15:20:08.269204Z",
     "shell.execute_reply": "2022-08-18T15:20:08.268948Z"
    }
   },
   "outputs": [
    {
     "name": "stdout",
     "output_type": "stream",
     "text": [
      "Found 4 trajectory files\n"
     ]
    }
   ],
   "source": [
    "channel_files = glob(os.path.join(traj_path, '..', '..', 'Al_256_channel', 'Dv1.0', 'kp*.out'))\n",
    "print('Found {} trajectory files'.format(len(channel_files)))"
   ]
  },
  {
   "cell_type": "code",
   "execution_count": 16,
   "metadata": {
    "execution": {
     "iopub.execute_input": "2022-08-18T15:20:08.271118Z",
     "iopub.status.busy": "2022-08-18T15:20:08.270815Z",
     "iopub.status.idle": "2022-08-18T15:20:08.657399Z",
     "shell.execute_reply": "2022-08-18T15:20:08.657710Z"
    }
   },
   "outputs": [
    {
     "name": "stdout",
     "output_type": "stream",
     "text": [
      "CPU times: user 359 ms, sys: 75.5 ms, total: 435 ms\n",
      "Wall time: 384 ms\n"
     ]
    }
   ],
   "source": [
    "%%time\n",
    "timings = np.hstack([get_iteration_cpu_times(f)[0] for f in channel_files])"
   ]
  },
  {
   "cell_type": "code",
   "execution_count": 17,
   "metadata": {
    "execution": {
     "iopub.execute_input": "2022-08-18T15:20:08.660213Z",
     "iopub.status.busy": "2022-08-18T15:20:08.659824Z",
     "iopub.status.idle": "2022-08-18T15:20:08.661353Z",
     "shell.execute_reply": "2022-08-18T15:20:08.661666Z"
    }
   },
   "outputs": [
    {
     "name": "stdout",
     "output_type": "stream",
     "text": [
      "Average time per iteration: 2.01 CPU-hrs\n"
     ]
    }
   ],
   "source": [
    "print('Average time per iteration: {:.2f} CPU-hrs'.format(np.mean(timings) / 3600))"
   ]
  },
  {
   "cell_type": "code",
   "execution_count": 18,
   "metadata": {
    "execution": {
     "iopub.execute_input": "2022-08-18T15:20:08.663765Z",
     "iopub.status.busy": "2022-08-18T15:20:08.663367Z",
     "iopub.status.idle": "2022-08-18T15:20:08.665189Z",
     "shell.execute_reply": "2022-08-18T15:20:08.664886Z"
    }
   },
   "outputs": [
    {
     "name": "stdout",
     "output_type": "stream",
     "text": [
      "Total number of timesteps: 2000\n"
     ]
    }
   ],
   "source": [
    "print('Total number of timesteps:', len(timings))"
   ]
  },
  {
   "cell_type": "code",
   "execution_count": 19,
   "metadata": {
    "execution": {
     "iopub.execute_input": "2022-08-18T15:20:08.667529Z",
     "iopub.status.busy": "2022-08-18T15:20:08.667129Z",
     "iopub.status.idle": "2022-08-18T15:20:08.668976Z",
     "shell.execute_reply": "2022-08-18T15:20:08.668634Z"
    }
   },
   "outputs": [
    {
     "name": "stdout",
     "output_type": "stream",
     "text": [
      "Total hours: 4028.67 CPU-hours\n"
     ]
    }
   ],
   "source": [
    "channel_hours = np.sum(timings) / 3600\n",
    "print('Total hours: {:.2f} CPU-hours'.format(channel_hours))"
   ]
  },
  {
   "cell_type": "markdown",
   "metadata": {},
   "source": [
    "## Time the ML Model\n",
    "Measure over the channel trajectory"
   ]
  },
  {
   "cell_type": "code",
   "execution_count": 20,
   "metadata": {
    "execution": {
     "iopub.execute_input": "2022-08-18T15:20:08.674176Z",
     "iopub.status.busy": "2022-08-18T15:20:08.673789Z",
     "iopub.status.idle": "2022-08-18T15:20:21.605817Z",
     "shell.execute_reply": "2022-08-18T15:20:21.606060Z"
    }
   },
   "outputs": [
    {
     "name": "stdout",
     "output_type": "stream",
     "text": [
      "CPU times: user 20 s, sys: 18.8 s, total: 38.8 s\n",
      "Wall time: 12.9 s\n"
     ]
    }
   ],
   "source": [
    "%%time\n",
    "ml_timings = []\n",
    "for p, v in channel_traj[['position', 'velocity']].values:\n",
    "    start = time.perf_counter()\n",
    "    X = traj_computer.featurizers.featurize(p, v)\n",
    "    f = traj_computer.model.predict([X])\n",
    "    stop = time.perf_counter()\n",
    "    ml_timings.append(stop - start)"
   ]
  },
  {
   "cell_type": "markdown",
   "metadata": {},
   "source": [
    "Compute the average run time"
   ]
  },
  {
   "cell_type": "code",
   "execution_count": 21,
   "metadata": {
    "execution": {
     "iopub.execute_input": "2022-08-18T15:20:21.608599Z",
     "iopub.status.busy": "2022-08-18T15:20:21.608298Z",
     "iopub.status.idle": "2022-08-18T15:20:21.610083Z",
     "shell.execute_reply": "2022-08-18T15:20:21.609831Z"
    }
   },
   "outputs": [
    {
     "name": "stdout",
     "output_type": "stream",
     "text": [
      "Total ML time: 12.93 CPU-s\n",
      "Average ML time: 6.46e-03 CPU-s, 1.795e-06 CPU-hr\n"
     ]
    }
   ],
   "source": [
    "print('Total ML time: {:.2f} CPU-s'.format(np.sum(ml_timings)))\n",
    "print('Average ML time: {:.2e} CPU-s, {:.3e} CPU-hr'.format(np.mean(ml_timings), np.mean(ml_timings) / 3600))"
   ]
  },
  {
   "cell_type": "code",
   "execution_count": 22,
   "metadata": {
    "execution": {
     "iopub.execute_input": "2022-08-18T15:20:21.612057Z",
     "iopub.status.busy": "2022-08-18T15:20:21.611760Z",
     "iopub.status.idle": "2022-08-18T15:20:21.613195Z",
     "shell.execute_reply": "2022-08-18T15:20:21.613435Z"
    }
   },
   "outputs": [
    {
     "name": "stdout",
     "output_type": "stream",
     "text": [
      "ML speedup: 1.12e+06x\n"
     ]
    }
   ],
   "source": [
    "print('ML speedup: {:.2e}x'.format(channel_hours / np.sum(ml_timings) * 3600))"
   ]
  },
  {
   "cell_type": "code",
   "execution_count": 23,
   "metadata": {
    "execution": {
     "iopub.execute_input": "2022-08-18T15:20:21.618589Z",
     "iopub.status.busy": "2022-08-18T15:20:21.618276Z",
     "iopub.status.idle": "2022-08-18T15:20:21.769033Z",
     "shell.execute_reply": "2022-08-18T15:20:21.769272Z"
    }
   },
   "outputs": [
    {
     "data": {
      "image/png": "[encoded data removed]",
      "text/plain": [
       "<Figure size 252x144 with 1 Axes>"
      ]
     },
     "metadata": {
      "needs_background": "light"
     },
     "output_type": "display_data"
    }
   ],
   "source": [
    "fig, ax = plt.subplots()\n",
    "\n",
    "ax.hist(ml_timings, bins=np.linspace(0.002, 0.010, 32))\n",
    "\n",
    "ax.set_yscale('log')\n",
    "\n",
    "ax.set_xlabel('CPU-s / Iteration')\n",
    "ax.set_ylabel('Frequency')\n",
    "\n",
    "fig.set_size_inches(3.5, 2)"
   ]
  },
  {
   "cell_type": "markdown",
   "metadata": {},
   "source": [
    "*Finding*: ~0.01 CPU-s per iterations is a good estimate (and this is without pipelining)"
   ]
  },
  {
   "cell_type": "markdown",
   "metadata": {},
   "source": [
    "## Get the time to evaluate the channel\n",
    "How long does it take, accounting for model without the start-up cost and noise."
   ]
  },
  {
   "cell_type": "markdown",
   "metadata": {},
   "source": [
    "Get the minimal length of the channel that must be evaluated"
   ]
  },
  {
   "cell_type": "code",
   "execution_count": 24,
   "metadata": {
    "execution": {
     "iopub.execute_input": "2022-08-18T15:20:21.771399Z",
     "iopub.status.busy": "2022-08-18T15:20:21.771088Z",
     "iopub.status.idle": "2022-08-18T15:20:21.772563Z",
     "shell.execute_reply": "2022-08-18T15:20:21.772312Z"
    }
   },
   "outputs": [],
   "source": [
    "traj_length = np.linalg.norm(traj_computer._compute_trajectory([1, 0, 0]))"
   ]
  },
  {
   "cell_type": "code",
   "execution_count": 25,
   "metadata": {
    "execution": {
     "iopub.execute_input": "2022-08-18T15:20:21.774330Z",
     "iopub.status.busy": "2022-08-18T15:20:21.774028Z",
     "iopub.status.idle": "2022-08-18T15:20:21.775507Z",
     "shell.execute_reply": "2022-08-18T15:20:21.775750Z"
    }
   },
   "outputs": [
    {
     "name": "stdout",
     "output_type": "stream",
     "text": [
      "Minimal length of [100] trajectory: 7.65595\n"
     ]
    }
   ],
   "source": [
    "print('Minimal length of [100] trajectory:', traj_length)"
   ]
  },
  {
   "cell_type": "markdown",
   "metadata": {},
   "source": [
    "Determine the minimum number of evaluations for evaluating the channel via equal-spaced timesteps"
   ]
  },
  {
   "cell_type": "code",
   "execution_count": 26,
   "metadata": {
    "execution": {
     "iopub.execute_input": "2022-08-18T15:20:21.777878Z",
     "iopub.status.busy": "2022-08-18T15:20:21.777563Z",
     "iopub.status.idle": "2022-08-18T15:20:21.779611Z",
     "shell.execute_reply": "2022-08-18T15:20:21.779290Z"
    }
   },
   "outputs": [
    {
     "name": "stdout",
     "output_type": "stream",
     "text": [
      "Step size for the channel trajectory: 0.014282544226903301\n"
     ]
    }
   ],
   "source": [
    "tddft_step_size = (random_traj['displacement'].max() - random_traj['displacement'].min()) / len(random_traj)\n",
    "print('Step size for the channel trajectory:', tddft_step_size)"
   ]
  },
  {
   "cell_type": "code",
   "execution_count": 27,
   "metadata": {
    "execution": {
     "iopub.execute_input": "2022-08-18T15:20:21.781355Z",
     "iopub.status.busy": "2022-08-18T15:20:21.781055Z",
     "iopub.status.idle": "2022-08-18T15:20:21.782775Z",
     "shell.execute_reply": "2022-08-18T15:20:21.782492Z"
    }
   },
   "outputs": [
    {
     "name": "stdout",
     "output_type": "stream",
     "text": [
      "Minimum number of steps: 537\n"
     ]
    }
   ],
   "source": [
    "minimum_step_count = int(np.ceil(traj_length / tddft_step_size))\n",
    "print('Minimum number of steps:', minimum_step_count)"
   ]
  },
  {
   "cell_type": "markdown",
   "metadata": {},
   "source": [
    "Get the number with adaptive integration"
   ]
  },
  {
   "cell_type": "code",
   "execution_count": 28,
   "metadata": {
    "execution": {
     "iopub.execute_input": "2022-08-18T15:20:21.784377Z",
     "iopub.status.busy": "2022-08-18T15:20:21.784098Z",
     "iopub.status.idle": "2022-08-18T15:20:21.785503Z",
     "shell.execute_reply": "2022-08-18T15:20:21.785269Z"
    }
   },
   "outputs": [],
   "source": [
    "original_force_func = traj_computer._create_force_calculator"
   ]
  },
  {
   "cell_type": "code",
   "execution_count": 29,
   "metadata": {
    "execution": {
     "iopub.execute_input": "2022-08-18T15:20:21.787688Z",
     "iopub.status.busy": "2022-08-18T15:20:21.787402Z",
     "iopub.status.idle": "2022-08-18T15:20:21.788555Z",
     "shell.execute_reply": "2022-08-18T15:20:21.788773Z"
    }
   },
   "outputs": [],
   "source": [
    "global eval_count\n",
    "eval_count = 0\n",
    "def tracked_force_func(start_point, lattice_vector, velocity):\n",
    "    f = original_force_func(start_point, lattice_vector, velocity)\n",
    "    def wrapped_f(x):\n",
    "        global eval_count\n",
    "        eval_count += 1\n",
    "        return f(x)\n",
    "    return wrapped_f\n",
    "traj_computer._create_force_calculator = tracked_force_func"
   ]
  },
  {
   "cell_type": "code",
   "execution_count": 30,
   "metadata": {
    "execution": {
     "iopub.execute_input": "2022-08-18T15:20:21.790632Z",
     "iopub.status.busy": "2022-08-18T15:20:21.790355Z",
     "iopub.status.idle": "2022-08-18T15:20:22.190798Z",
     "shell.execute_reply": "2022-08-18T15:20:22.190490Z"
    }
   },
   "outputs": [],
   "source": [
    "ml_quad_time = time.perf_counter()\n",
    "traj_computer.compute_stopping_power([0, 0.75, 0.75], [1,0,0], 1)\n",
    "ml_quad_time = time.perf_counter() - ml_quad_time"
   ]
  },
  {
   "cell_type": "code",
   "execution_count": 31,
   "metadata": {
    "execution": {
     "iopub.execute_input": "2022-08-18T15:20:22.192660Z",
     "iopub.status.busy": "2022-08-18T15:20:22.192359Z",
     "iopub.status.idle": "2022-08-18T15:20:22.194085Z",
     "shell.execute_reply": "2022-08-18T15:20:22.193779Z"
    }
   },
   "outputs": [
    {
     "name": "stdout",
     "output_type": "stream",
     "text": [
      "Adaptive quadrature converges in 63 steps, requiring 0.40 CPU-s\n"
     ]
    }
   ],
   "source": [
    "print('Adaptive quadrature converges in {} steps, requiring {:.2f} CPU-s'.format(eval_count, ml_quad_time))"
   ]
  },
  {
   "cell_type": "code",
   "execution_count": 32,
   "metadata": {
    "execution": {
     "iopub.execute_input": "2022-08-18T15:20:22.195960Z",
     "iopub.status.busy": "2022-08-18T15:20:22.195664Z",
     "iopub.status.idle": "2022-08-18T15:20:22.197311Z",
     "shell.execute_reply": "2022-08-18T15:20:22.197057Z"
    }
   },
   "outputs": [
    {
     "name": "stdout",
     "output_type": "stream",
     "text": [
      "Total speedup of ML: 3.64e+07\n"
     ]
    }
   ],
   "source": [
    "print('Total speedup of ML: {:.2e}'.format(channel_hours / (ml_quad_time / 3600)))"
   ]
  },
  {
   "cell_type": "code",
   "execution_count": null,
   "metadata": {},
   "outputs": [],
   "source": []
  }
 ],
 "metadata": {
  "kernelspec": {
   "display_name": "Python 3 (ipykernel)",
   "language": "python",
   "name": "python3"
  },
  "language_info": {
   "codemirror_mode": {
    "name": "ipython",
    "version": 3
   },
   "file_extension": ".py",
   "mimetype": "text/x-python",
   "name": "python",
   "nbconvert_exporter": "python",
   "pygments_lexer": "ipython3",
   "version": "3.9.16"
  }
 },
 "nbformat": 4,
 "nbformat_minor": 4
}
