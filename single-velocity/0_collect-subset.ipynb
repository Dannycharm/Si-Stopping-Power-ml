{
 "cells": [
  {
   "cell_type": "markdown",
   "metadata": {},
   "source": [
    "# Get Data from Single Velocity\n",
    "From all of the Si data, get only that from `v = 1.5`. Also, mark the initial transient"
   ]
  },
  {
   "cell_type": "code",
   "execution_count": 3,
   "metadata": {},
   "outputs": [],
   "source": [
    "%matplotlib inline\n",
    "from matplotlib import pyplot as plt\n",
    "import pickle as pkl\n",
    "import pandas as pd\n",
    "import numpy as np\n",
    "import os"
   ]
  },
  {
   "cell_type": "markdown",
   "metadata": {},
   "source": [
    "## Load in the Entire Dataset\n",
    "This includes data from all velocities and all trajectories"
   ]
  },
  {
   "cell_type": "code",
   "execution_count": 4,
   "metadata": {},
   "outputs": [
    {
     "name": "stdout",
     "output_type": "stream",
     "text": [
      "Loaded 46581 entries\n"
     ]
    }
   ],
   "source": [
    "data = pd.read_pickle(os.path.join('..', 'training_data.pkl.gz'))\n",
    "print('Loaded %d entries'%len(data))\n",
    "# I added this:\n",
    "#data = data[data['directory'].str.contains('silicon_data/2_Electronic_Stopping/H_Si/LDA_H_off_channel/')]\n",
    "#print('Selected {} training entries'.format(len(data)))"
   ]
  },
  {
   "cell_type": "markdown",
   "metadata": {},
   "source": [
    "Add the starting frame"
   ]
  },
  {
   "cell_type": "code",
   "execution_count": 5,
   "metadata": {},
   "outputs": [],
   "source": [
    "start_frame = pkl.load(open(os.path.join('..', 'Si_starting_frame.pkl'), 'rb'))"
   ]
  },
  {
   "cell_type": "markdown",
   "metadata": {},
   "source": [
    "## Get the `v = 1.5` subset\n",
    "Nice and easy query"
   ]
  },
  {
   "cell_type": "code",
   "execution_count": 6,
   "metadata": {},
   "outputs": [
    {
     "name": "stdout",
     "output_type": "stream",
     "text": [
      "Downselected to 820 entries\n"
     ]
    }
   ],
   "source": [
    "data = data[np.isclose(data['velocity'].apply(np.linalg.norm), 1.5, atol=1e-3)]\n",
    "print('Downselected to %d entries'%len(data)) \n",
    "#print(data)"
   ]
  },
  {
   "cell_type": "code",
   "execution_count": 8,
   "metadata": {},
   "outputs": [
    {
     "name": "stdout",
     "output_type": "stream",
     "text": [
      "Number of trajectories: 2\n"
     ]
    }
   ],
   "source": [
    "traj_names = set(data['directory'])\n",
    "print('Number of trajectories:', len(traj_names))\n",
    "assert len(traj_names) == 2"
   ]
  },
  {
   "cell_type": "markdown",
   "metadata": {},
   "source": [
    "## Mark the Initial Transients\n",
    "The forces in the first part of the simulation are too high because the system is still reacting to the introduction of the projectile."
   ]
  },
  {
   "cell_type": "code",
   "execution_count": 9,
   "metadata": {},
   "outputs": [],
   "source": [
    "data['initial'] = False"
   ]
  },
  {
   "cell_type": "code",
   "execution_count": 10,
   "metadata": {},
   "outputs": [
    {
     "data": {
      "text/plain": [
       "{'silicon_data/2_Electronic_Stopping/H_Si/LDA_H_001_direction/v_1.5',\n",
       " 'silicon_data/2_Electronic_Stopping/H_Si/LDA_H_off_channel/v_1.5'}"
      ]
     },
     "execution_count": 10,
     "metadata": {},
     "output_type": "execute_result"
    }
   ],
   "source": [
    "traj_names"
   ]
  },
  {
   "cell_type": "markdown",
   "metadata": {},
   "source": [
    "### For the Random Trajectory\n",
    "One of the three trajectories we have is along a random path"
   ]
  },
  {
   "cell_type": "code",
   "execution_count": 11,
   "metadata": {},
   "outputs": [],
   "source": [
    "random_traj = 'silicon_data/2_Electronic_Stopping/H_Si/LDA_H_off_channel/v_1.5'\n",
    "#random_traj = 'silicon_data/2_Electronic_Stopping/H_Si/LDA_H_001_direction/v_1.5'"
   ]
  },
  {
   "cell_type": "code",
   "execution_count": 12,
   "metadata": {},
   "outputs": [
    {
     "data": {
      "text/plain": [
       "'silicon_data/2_Electronic_Stopping/H_Si/LDA_H_off_channel/v_1.5'"
      ]
     },
     "execution_count": 12,
     "metadata": {},
     "output_type": "execute_result"
    }
   ],
   "source": [
    "random_traj"
   ]
  },
  {
   "cell_type": "code",
   "execution_count": 13,
   "metadata": {},
   "outputs": [
    {
     "name": "stdout",
     "output_type": "stream",
     "text": [
      "Number of points: 385\n"
     ]
    }
   ],
   "source": [
    "#data = data[data['directory'].str.contains('silicon_data/2_Electronic_Stopping/H_Si/LDA_H_off_channel/v_1.5')]\n",
    "#print('Selected {} training entries'.format(len(data)))\n",
    "random_data = data[data['directory'] == random_traj].copy()\n",
    "print('Number of points:', len(random_data))"
   ]
  },
  {
   "cell_type": "markdown",
   "metadata": {},
   "source": [
    "Plot the force as a function of displacement for the beginning part of the trajectory"
   ]
  },
  {
   "cell_type": "code",
   "execution_count": 14,
   "metadata": {},
   "outputs": [
    {
     "data": {
      "text/plain": [
       "Text(0, 0.5, 'Force ($E_H/a_B$)')"
      ]
     },
     "execution_count": 14,
     "metadata": {},
     "output_type": "execute_result"
    },
    {
     "data": {
      "image/png": "[encoded data removed]",
      "text/plain": [
       "<Figure size 640x480 with 1 Axes>"
      ]
     },
     "metadata": {},
     "output_type": "display_data"
    }
   ],
   "source": [
    "fig, ax = plt.subplots()\n",
    "\n",
    "ax.plot(random_data['displacement'], random_data['force'])\n",
    "ax.plot([6,6], [-100,100], 'k--')\n",
    "\n",
    "ax.set_yscale('symlog')\n",
    "\n",
    "#ax.set_xlim(0, 15)\n",
    "ax.set_ylim(-10, 10)\n",
    "\n",
    "ax.set_xlabel('Displacement ($a_B$)')\n",
    "ax.set_ylabel('Force ($E_H/a_B$)')"
   ]
  },
  {
   "cell_type": "code",
   "execution_count": 15,
   "metadata": {},
   "outputs": [
    {
     "data": {
      "text/plain": [
       "277"
      ]
     },
     "execution_count": 15,
     "metadata": {},
     "output_type": "execute_result"
    }
   ],
   "source": [
    "sum(random_data['displacement'] < 6)"
   ]
  },
  {
   "cell_type": "markdown",
   "metadata": {},
   "source": [
    "*Finding*: The choice of 6 $a_B$ by Schleife *et al* seems reasonable"
   ]
  },
  {
   "cell_type": "code",
   "execution_count": 16,
   "metadata": {},
   "outputs": [],
   "source": [
    "random_data['initial'] = random_data['displacement'] < 6"
   ]
  },
  {
   "cell_type": "code",
   "execution_count": 17,
   "metadata": {},
   "outputs": [
    {
     "name": "stdout",
     "output_type": "stream",
     "text": [
      "Total number of points: 108\n"
     ]
    }
   ],
   "source": [
    "print('Total number of points:', np.logical_not(random_data['initial']).sum())"
   ]
  },
  {
   "cell_type": "markdown",
   "metadata": {},
   "source": [
    "## Channel Trajectory\n",
    "The other trajectory is along a channel in the FCC structure"
   ]
  },
  {
   "cell_type": "code",
   "execution_count": 18,
   "metadata": {},
   "outputs": [],
   "source": [
    "channel_traj = [x for x in traj_names if '001_direction' in x][0]"
   ]
  },
  {
   "cell_type": "code",
   "execution_count": 19,
   "metadata": {},
   "outputs": [
    {
     "data": {
      "text/plain": [
       "'silicon_data/2_Electronic_Stopping/H_Si/LDA_H_001_direction/v_1.5'"
      ]
     },
     "execution_count": 19,
     "metadata": {},
     "output_type": "execute_result"
    }
   ],
   "source": [
    "channel_traj"
   ]
  },
  {
   "cell_type": "code",
   "execution_count": 20,
   "metadata": {},
   "outputs": [],
   "source": [
    "channel_data = data[data['directory'] == channel_traj].copy()"
   ]
  },
  {
   "cell_type": "code",
   "execution_count": 21,
   "metadata": {},
   "outputs": [
    {
     "data": {
      "text/plain": [
       "Text(0, 0.5, 'Force ($E_H/a_B$)')"
      ]
     },
     "execution_count": 21,
     "metadata": {},
     "output_type": "execute_result"
    },
    {
     "data": {
      "image/png": "[encoded data removed]",
      "text/plain": [
       "<Figure size 640x480 with 1 Axes>"
      ]
     },
     "metadata": {},
     "output_type": "display_data"
    }
   ],
   "source": [
    "fig, ax = plt.subplots()\n",
    "\n",
    "ax.plot(channel_data['displacement'], channel_data['force'])\n",
    "ax.plot([6,6], [-100,100], 'k--')\n",
    "\n",
    "ax.set_xlim(0, 20)\n",
    "ax.set_ylim(0, 0.4)\n",
    "\n",
    "ax.set_xlabel('Displacement ($a_B$)')\n",
    "ax.set_ylabel('Force ($E_H/a_B$)')"
   ]
  },
  {
   "cell_type": "markdown",
   "metadata": {},
   "source": [
    "*Finding*: The 6 $a_B$ cutoff also seems like a good choce here as well"
   ]
  },
  {
   "cell_type": "code",
   "execution_count": 22,
   "metadata": {},
   "outputs": [],
   "source": [
    "channel_data['initial'] = channel_data.eval('displacement < 6')"
   ]
  },
  {
   "cell_type": "code",
   "execution_count": 23,
   "metadata": {},
   "outputs": [
    {
     "data": {
      "text/plain": [
       "initial\n",
       "True     277\n",
       "False    158\n",
       "Name: count, dtype: int64"
      ]
     },
     "execution_count": 23,
     "metadata": {},
     "output_type": "execute_result"
    }
   ],
   "source": [
    "channel_data['initial'].value_counts()"
   ]
  },
  {
   "cell_type": "markdown",
   "metadata": {},
   "source": [
    "Also determine the range to average over, between the 1st and 3rd lattice spacings"
   ]
  },
  {
   "cell_type": "code",
   "execution_count": 24,
   "metadata": {},
   "outputs": [],
   "source": [
    "lat_spacing = start_frame.cell[0,0] / 4"
   ]
  },
  {
   "cell_type": "code",
   "execution_count": 25,
   "metadata": {},
   "outputs": [],
   "source": [
    "channel_data['average_range'] = False"
   ]
  },
  {
   "cell_type": "code",
   "execution_count": 26,
   "metadata": {},
   "outputs": [],
   "source": [
    "channel_data['average_range'] = channel_data.eval('displacement >= {}  and displacement <= {}'.format(lat_spacing, 3 * lat_spacing))"
   ]
  },
  {
   "cell_type": "code",
   "execution_count": 27,
   "metadata": {},
   "outputs": [
    {
     "name": "stdout",
     "output_type": "stream",
     "text": [
      "Total number of points: 158\n"
     ]
    }
   ],
   "source": [
    "print('Total number of points:', np.logical_not(channel_data['initial']).sum())"
   ]
  },
  {
   "cell_type": "markdown",
   "metadata": {},
   "source": [
    "## Load in the New Data\n",
    "It is stored in a few different subdirectories, we want to load them in separately and index them by name. For each dataset, we'll use the a cutoff for 'initial' data of 6 $a_B$\n",
    "\n",
    "Note: Silicon doesn't have the new data"
   ]
  },
  {
   "cell_type": "code",
   "execution_count": 28,
   "metadata": {},
   "outputs": [],
   "source": [
    "new_dirs = traj_names.difference({'silicon_data/2_Electronic_Stopping/H_Si/LDA_H_off_channel/v_1.5', 'silicon_data/2_Electronic_Stopping/H_Si/LDA_H_001_direction/v_1.5'})"
   ]
  },
  {
   "cell_type": "code",
   "execution_count": 29,
   "metadata": {},
   "outputs": [],
   "source": [
    "new_data = dict((os.path.basename(d), group) for d, group in \n",
    "                data[data['directory'].apply(lambda x: x in new_dirs)].groupby('directory'))\n",
    "#assert len(new_data) == "
   ]
  },
  {
   "cell_type": "markdown",
   "metadata": {},
   "source": [
    "###### Plot the new data"
   ]
  },
  {
   "cell_type": "code",
   "execution_count": 30,
   "metadata": {},
   "outputs": [
    {
     "data": {
      "image/png": "[encoded data removed]",
      "text/plain": [
       "<Figure size 640x480 with 4 Axes>"
      ]
     },
     "metadata": {},
     "output_type": "display_data"
    }
   ],
   "source": [
    "fig, axs = plt.subplots(2, 2)\n",
    "axs = axs.flatten()\n",
    "\n",
    "for i, (ax, (d, subset)) in enumerate(zip(axs, new_data.items())):\n",
    "    ax.plot(subset['timestep'], subset['force'])\n",
    "    ax.set_yscale('symlog')\n",
    "    \n",
    "    # Make a label for the figure\n",
    "    ax.text(0, 1, d, bbox={'facecolor': 'w', 'edgecolor': 'k'},\n",
    "           transform=ax.transAxes)\n",
    "    \n",
    "    # Make axes labels\n",
    "    ax.set_xlabel('Timestep')\n",
    "    if i == 0:\n",
    "        ax.set_ylabel('Force ($E_H / a_B$)')\n",
    "            \n",
    "fig.tight_layout()"
   ]
  },
  {
   "cell_type": "markdown",
   "metadata": {},
   "source": [
    "Label the cutoff"
   ]
  },
  {
   "cell_type": "code",
   "execution_count": 28,
   "metadata": {},
   "outputs": [],
   "source": [
    "for subset in new_data.values():\n",
    "    subset['initial'] = subset['displacement'] < 6"
   ]
  },
  {
   "cell_type": "markdown",
   "metadata": {},
   "source": [
    "## Save the Results to Disk\n",
    "For easy use later"
   ]
  },
  {
   "cell_type": "code",
   "execution_count": 29,
   "metadata": {},
   "outputs": [],
   "source": [
    "if not os.path.isdir('data'):\n",
    "    os.mkdir('data')"
   ]
  },
  {
   "cell_type": "code",
   "execution_count": 31,
   "metadata": {},
   "outputs": [],
   "source": [
    "channel_data.to_pickle(os.path.join('data', 'channel_data.pkl.gz'))"
   ]
  },
  {
   "cell_type": "code",
   "execution_count": 32,
   "metadata": {},
   "outputs": [],
   "source": [
    "random_data.to_pickle(os.path.join('data', 'random_data.pkl.gz'))"
   ]
  },
  {
   "cell_type": "code",
   "execution_count": 32,
   "metadata": {},
   "outputs": [],
   "source": [
    "# with open(os.path.join('data', 'new_data.pkl'), 'wb') as fp:\n",
    "#     pkl.dump(new_data, fp)"
   ]
  },
  {
   "cell_type": "code",
   "execution_count": null,
   "metadata": {},
   "outputs": [],
   "source": []
  },
  {
   "cell_type": "code",
   "execution_count": null,
   "metadata": {},
   "outputs": [],
   "source": []
  }
 ],
 "metadata": {
  "kernelspec": {
   "display_name": "venv",
   "language": "python",
   "name": "venv"
  },
  "language_info": {
   "codemirror_mode": {
    "name": "ipython",
    "version": 3
   },
   "file_extension": ".py",
   "mimetype": "text/x-python",
   "name": "python",
   "nbconvert_exporter": "python",
   "pygments_lexer": "ipython3",
   "version": "3.9.16"
  }
 },
 "nbformat": 4,
 "nbformat_minor": 4
}
