{
 "cells": [
  {
   "cell_type": "markdown",
   "metadata": {},
   "source": [
    "# Assessing Forward/Backward Asymmetry in Stopping Powers\n",
    "Our stopping power model predicts different stopping powers for particles traveling forward than those traveling backwards on some trajectories. The purpose of this notebook is to explain why this is valid. "
   ]
  },
  {
   "cell_type": "code",
   "execution_count": 1,
   "metadata": {
    "execution": {
     "iopub.execute_input": "2022-08-18T15:19:05.524697Z",
     "iopub.status.busy": "2022-08-18T15:19:05.523591Z",
     "iopub.status.idle": "2022-08-18T15:19:07.671960Z",
     "shell.execute_reply": "2022-08-18T15:19:07.671617Z"
    }
   },
   "outputs": [],
   "source": [
    "%matplotlib inline\n",
    "from matplotlib import pyplot as plt\n",
    "from stopping_power_ml.features import LocalChargeDensity\n",
    "import pandas as pd\n",
    "import numpy as np\n",
    "import pickle as pkl\n",
    "import os"
   ]
  },
  {
   "cell_type": "markdown",
   "metadata": {},
   "source": [
    "Configure parsl"
   ]
  },
  {
   "cell_type": "code",
   "execution_count": 2,
   "metadata": {
    "execution": {
     "iopub.execute_input": "2022-08-18T15:19:07.674992Z",
     "iopub.status.busy": "2022-08-18T15:19:07.674611Z",
     "iopub.status.idle": "2022-08-18T15:19:08.133634Z",
     "shell.execute_reply": "2022-08-18T15:19:08.133385Z"
    }
   },
   "outputs": [],
   "source": [
    "import parsl\n",
    "from parsl.configs.htex_local import config\n",
    "from parsl.app.app import python_app\n",
    "config.executors[0].provider.max_blocks=9\n",
    "dfk = parsl.load(config)"
   ]
  },
  {
   "cell_type": "markdown",
   "metadata": {},
   "source": [
    "## Load in the Tools\n",
    "We'll need the trajectory computer, and the charge density so that we can make illustrative plots."
   ]
  },
  {
   "cell_type": "code",
   "execution_count": 3,
   "metadata": {
    "execution": {
     "iopub.execute_input": "2022-08-18T15:19:08.136024Z",
     "iopub.status.busy": "2022-08-18T15:19:08.135730Z",
     "iopub.status.idle": "2022-08-18T15:19:08.306790Z",
     "shell.execute_reply": "2022-08-18T15:19:08.306288Z"
    }
   },
   "outputs": [],
   "source": [
    "traj_computer = pkl.load(open('traj_computer.pkl', 'rb'))"
   ]
  },
  {
   "cell_type": "code",
   "execution_count": 4,
   "metadata": {
    "execution": {
     "iopub.execute_input": "2022-08-18T15:19:08.309465Z",
     "iopub.status.busy": "2022-08-18T15:19:08.309164Z",
     "iopub.status.idle": "2022-08-18T15:19:08.319921Z",
     "shell.execute_reply": "2022-08-18T15:19:08.320162Z"
    }
   },
   "outputs": [],
   "source": [
    "charge_density = pkl.load(open(os.path.join('..', 'density_interp.pkl'), 'rb'))"
   ]
  },
  {
   "cell_type": "code",
   "execution_count": 5,
   "metadata": {
    "execution": {
     "iopub.execute_input": "2022-08-18T15:19:08.322674Z",
     "iopub.status.busy": "2022-08-18T15:19:08.322322Z",
     "iopub.status.idle": "2022-08-18T15:19:08.750911Z",
     "shell.execute_reply": "2022-08-18T15:19:08.751109Z"
    }
   },
   "outputs": [
    {
     "data": {
      "text/plain": [
       "(0.23430002082438295, 5.524855155737327e-05)"
      ]
     },
     "execution_count": 1,
     "metadata": {},
     "output_type": "execute_result"
    }
   ],
   "source": [
    "traj_computer.compute_stopping_power([0,0.75,0.75], [1,0,0], 1)"
   ]
  },
  {
   "cell_type": "markdown",
   "metadata": {},
   "source": [
    "## Simple Test: Channel\n",
    "Here, we have a particle traveling forward or backwards along the channel of FCC Al. The path forward and backwards are indentical, so we should get the same stopping power"
   ]
  },
  {
   "cell_type": "code",
   "execution_count": 6,
   "metadata": {
    "execution": {
     "iopub.execute_input": "2022-08-18T15:19:08.753866Z",
     "iopub.status.busy": "2022-08-18T15:19:08.753592Z",
     "iopub.status.idle": "2022-08-18T15:19:08.756175Z",
     "shell.execute_reply": "2022-08-18T15:19:08.755918Z"
    }
   },
   "outputs": [],
   "source": [
    "@python_app\n",
    "def compute_stopping_power(starting_point, direction, traj_computer=traj_computer):\n",
    "    return traj_computer.compute_stopping_power(starting_point, direction, 1)"
   ]
  },
  {
   "cell_type": "markdown",
   "metadata": {},
   "source": [
    "Set up calculations for the stopping power in the channel"
   ]
  },
  {
   "cell_type": "code",
   "execution_count": 7,
   "metadata": {
    "execution": {
     "iopub.execute_input": "2022-08-18T15:19:08.828046Z",
     "iopub.status.busy": "2022-08-18T15:19:08.792041Z",
     "iopub.status.idle": "2022-08-18T15:19:08.943698Z",
     "shell.execute_reply": "2022-08-18T15:19:08.943379Z"
    }
   },
   "outputs": [],
   "source": [
    "forward = compute_stopping_power([0,0.75,0.75], [1,0,0])"
   ]
  },
  {
   "cell_type": "code",
   "execution_count": 8,
   "metadata": {
    "execution": {
     "iopub.execute_input": "2022-08-18T15:19:08.962325Z",
     "iopub.status.busy": "2022-08-18T15:19:08.962044Z",
     "iopub.status.idle": "2022-08-18T15:19:08.966502Z",
     "shell.execute_reply": "2022-08-18T15:19:08.966742Z"
    }
   },
   "outputs": [],
   "source": [
    "backward = compute_stopping_power([0,0.75,0.75], [-1,0,0])"
   ]
  },
  {
   "cell_type": "markdown",
   "metadata": {},
   "source": [
    "Wait for them to finish"
   ]
  },
  {
   "cell_type": "code",
   "execution_count": 9,
   "metadata": {
    "execution": {
     "iopub.execute_input": "2022-08-18T15:19:08.969117Z",
     "iopub.status.busy": "2022-08-18T15:19:08.968882Z",
     "iopub.status.idle": "2022-08-18T15:19:11.257464Z",
     "shell.execute_reply": "2022-08-18T15:19:11.257898Z"
    }
   },
   "outputs": [
    {
     "name": "stdout",
     "output_type": "stream",
     "text": [
      "CPU times: user 5.72 ms, sys: 17.7 ms, total: 23.4 ms\n",
      "Wall time: 2.28 s\n"
     ]
    }
   ],
   "source": [
    "%%time\n",
    "forward = forward.result(); backward = backward.result()"
   ]
  },
  {
   "cell_type": "code",
   "execution_count": 10,
   "metadata": {
    "execution": {
     "iopub.execute_input": "2022-08-18T15:19:11.262888Z",
     "iopub.status.busy": "2022-08-18T15:19:11.262432Z",
     "iopub.status.idle": "2022-08-18T15:19:11.264120Z",
     "shell.execute_reply": "2022-08-18T15:19:11.264427Z"
    }
   },
   "outputs": [
    {
     "name": "stdout",
     "output_type": "stream",
     "text": [
      "Forward stopping power:  0.23430002082438295\n",
      "Backward stopping power:  0.23431760358640213\n",
      "Difference:  1.758276201918596e-05\n"
     ]
    }
   ],
   "source": [
    "print('Forward stopping power: ', forward[0])\n",
    "print('Backward stopping power: ', backward[0])\n",
    "print('Difference: ', backward[0]-forward[0])"
   ]
  },
  {
   "cell_type": "markdown",
   "metadata": {},
   "source": [
    "*Finding*: Consistent with my initial expectations, they are indeed the same (within numerical tolerances)."
   ]
  },
  {
   "cell_type": "markdown",
   "metadata": {},
   "source": [
    "## Asymmetry: Along an Uneven Channel\n",
    "In computing the stopping powers in the previous notebook, you will note that the shape lacks some symmetries one might expect: the particle moving in the $[4 1 1]$ direction does not equal the particle moving in the opposite, $[\\bar{4} \\bar{1} \\bar{1}]$ direction."
   ]
  },
  {
   "cell_type": "code",
   "execution_count": 11,
   "metadata": {
    "execution": {
     "iopub.execute_input": "2022-08-18T15:19:11.267290Z",
     "iopub.status.busy": "2022-08-18T15:19:11.266942Z",
     "iopub.status.idle": "2022-08-18T15:19:11.268344Z",
     "shell.execute_reply": "2022-08-18T15:19:11.268044Z"
    }
   },
   "outputs": [],
   "source": [
    "direction = np.array([4,1,1])\n",
    "starting_point = [0,0.75,0.85]"
   ]
  },
  {
   "cell_type": "code",
   "execution_count": 12,
   "metadata": {
    "execution": {
     "iopub.execute_input": "2022-08-18T15:19:11.289691Z",
     "iopub.status.busy": "2022-08-18T15:19:11.270402Z",
     "iopub.status.idle": "2022-08-18T15:19:11.298916Z",
     "shell.execute_reply": "2022-08-18T15:19:11.299149Z"
    }
   },
   "outputs": [],
   "source": [
    "forward = compute_stopping_power(starting_point, direction)"
   ]
  },
  {
   "cell_type": "code",
   "execution_count": 13,
   "metadata": {
    "execution": {
     "iopub.execute_input": "2022-08-18T15:19:11.301230Z",
     "iopub.status.busy": "2022-08-18T15:19:11.300908Z",
     "iopub.status.idle": "2022-08-18T15:19:11.323626Z",
     "shell.execute_reply": "2022-08-18T15:19:11.323902Z"
    }
   },
   "outputs": [],
   "source": [
    "backward = compute_stopping_power(starting_point, -direction)"
   ]
  },
  {
   "cell_type": "code",
   "execution_count": 14,
   "metadata": {
    "execution": {
     "iopub.execute_input": "2022-08-18T15:19:11.326381Z",
     "iopub.status.busy": "2022-08-18T15:19:11.326133Z",
     "iopub.status.idle": "2022-08-18T15:19:19.266615Z",
     "shell.execute_reply": "2022-08-18T15:19:19.266348Z"
    }
   },
   "outputs": [
    {
     "name": "stdout",
     "output_type": "stream",
     "text": [
      "CPU times: user 4.59 ms, sys: 29.4 ms, total: 34 ms\n",
      "Wall time: 7.94 s\n"
     ]
    }
   ],
   "source": [
    "%%time\n",
    "forward = forward.result(); backward = backward.result()"
   ]
  },
  {
   "cell_type": "code",
   "execution_count": 15,
   "metadata": {
    "execution": {
     "iopub.execute_input": "2022-08-18T15:19:19.269671Z",
     "iopub.status.busy": "2022-08-18T15:19:19.269202Z",
     "iopub.status.idle": "2022-08-18T15:19:19.270618Z",
     "shell.execute_reply": "2022-08-18T15:19:19.270849Z"
    }
   },
   "outputs": [
    {
     "name": "stdout",
     "output_type": "stream",
     "text": [
      "Forward stopping power:  0.24159854885039267\n",
      "Backward stopping power:  0.2423337540217589\n",
      "Difference:  0.0007352051713662433\n"
     ]
    }
   ],
   "source": [
    "print('Forward stopping power: ', forward[0])\n",
    "print('Backward stopping power: ', backward[0])\n",
    "print('Difference: ', backward[0]-forward[0])"
   ]
  },
  {
   "cell_type": "markdown",
   "metadata": {},
   "source": [
    "*Finding*: We do find a difference for this channel"
   ]
  },
  {
   "cell_type": "markdown",
   "metadata": {},
   "source": [
    "### Why is there an asymmetry?\n",
    "Note that here is different: the stopping powers are *unequal*. For a long while, I thought this was a bug in the stopping power code. Then, after some thought, I noticed the forward and backward trajectory are indeed different. Starting from a common reference point - where the trajectories pass closest to an atom - we can observe that the two trajectories have a unique asymmetry."
   ]
  },
  {
   "cell_type": "code",
   "execution_count": 16,
   "metadata": {
    "execution": {
     "iopub.execute_input": "2022-08-18T15:19:19.273051Z",
     "iopub.status.busy": "2022-08-18T15:19:19.272700Z",
     "iopub.status.idle": "2022-08-18T15:19:19.281349Z",
     "shell.execute_reply": "2022-08-18T15:19:19.281650Z"
    }
   },
   "outputs": [],
   "source": [
    "# Find the point of nearest pass\n",
    "forward_start = traj_computer._find_near_hits(starting_point, direction, 1)[0]\n",
    "backward_start = traj_computer._find_near_hits(starting_point, -direction, 1)[0]"
   ]
  },
  {
   "cell_type": "code",
   "execution_count": 17,
   "metadata": {
    "execution": {
     "iopub.execute_input": "2022-08-18T15:19:19.283051Z",
     "iopub.status.busy": "2022-08-18T15:19:19.282710Z",
     "iopub.status.idle": "2022-08-18T15:19:19.286259Z",
     "shell.execute_reply": "2022-08-18T15:19:19.286554Z"
    }
   },
   "outputs": [],
   "source": [
    "# Compute the features for \n",
    "@python_app\n",
    "def compute_features(starting_point, direction, offset, n_points, traj_computer=traj_computer):\n",
    "    import numpy as np\n",
    "    import pandas as pd\n",
    "    X = np.linspace(offset, offset + 2, n_points)\n",
    "    f = traj_computer._create_model_inputs(starting_point, direction, 1)\n",
    "    features = [f(x) for x in X]\n",
    "    labels = traj_computer.featurizers.feature_labels()\n",
    "    return pd.DataFrame(dict(zip(labels, zip(*features))))"
   ]
  },
  {
   "cell_type": "code",
   "execution_count": 18,
   "metadata": {
    "execution": {
     "iopub.execute_input": "2022-08-18T15:19:19.287904Z",
     "iopub.status.busy": "2022-08-18T15:19:19.287574Z",
     "iopub.status.idle": "2022-08-18T15:19:19.499473Z",
     "shell.execute_reply": "2022-08-18T15:19:19.499755Z"
    }
   },
   "outputs": [],
   "source": [
    "forward = compute_features(starting_point, direction, forward_start, 51)"
   ]
  },
  {
   "cell_type": "code",
   "execution_count": 19,
   "metadata": {
    "execution": {
     "iopub.execute_input": "2022-08-18T15:19:19.526934Z",
     "iopub.status.busy": "2022-08-18T15:19:19.502745Z",
     "iopub.status.idle": "2022-08-18T15:19:19.535969Z",
     "shell.execute_reply": "2022-08-18T15:19:19.536429Z"
    }
   },
   "outputs": [],
   "source": [
    "backward = compute_features(starting_point, -direction, backward_start, 51)"
   ]
  },
  {
   "cell_type": "code",
   "execution_count": 20,
   "metadata": {
    "execution": {
     "iopub.execute_input": "2022-08-18T15:19:19.539581Z",
     "iopub.status.busy": "2022-08-18T15:19:19.539295Z",
     "iopub.status.idle": "2022-08-18T15:19:21.618528Z",
     "shell.execute_reply": "2022-08-18T15:19:21.618266Z"
    }
   },
   "outputs": [
    {
     "name": "stdout",
     "output_type": "stream",
     "text": [
      "CPU times: user 1.77 ms, sys: 68 µs, total: 1.84 ms\n",
      "Wall time: 2.08 s\n"
     ]
    }
   ],
   "source": [
    "%%time\n",
    "forward = forward.result(); backward = backward.result();"
   ]
  },
  {
   "cell_type": "code",
   "execution_count": 21,
   "metadata": {
    "execution": {
     "iopub.execute_input": "2022-08-18T15:19:21.646364Z",
     "iopub.status.busy": "2022-08-18T15:19:21.645472Z",
     "iopub.status.idle": "2022-08-18T15:19:21.899366Z",
     "shell.execute_reply": "2022-08-18T15:19:21.899613Z"
    }
   },
   "outputs": [
    {
     "data": {
      "image/png": "[encoded data removed]",
      "text/plain": [
       "<Figure size 648x288 with 3 Axes>"
      ]
     },
     "metadata": {
      "needs_background": "light"
     },
     "output_type": "display_data"
    }
   ],
   "source": [
    "fig, ax = plt.subplots(1, 2, sharey=True)\n",
    "\n",
    "x = np.linspace(0, 2, 51)\n",
    "feature = 'charge density at t=0.00'\n",
    "# Make the plot with both in same direction\n",
    "ax[0].plot(x, forward[feature], 'r', label='Forward')\n",
    "ax[0].plot(x, backward[feature], 'b', label='Backward')\n",
    "\n",
    "ax[0].set_xlabel('Displacement', fontsize=16)\n",
    "ax[0].set_ylabel('log($\\\\rho$)', fontsize=16)\n",
    "\n",
    "ax[0].legend()\n",
    "\n",
    "ax_top = ax[1].twiny()\n",
    "ax[1].plot(x, forward[feature], 'b', label='Backward') # Is plotted over\n",
    "ax[1].plot(x, forward[feature], 'r', label='Forward')\n",
    "ax_top.plot(x, backward[feature], 'b', label='Backward')\n",
    "\n",
    "ax[1].set_xlabel('Forward Displacement', fontsize=16)\n",
    "ax_top.set_xlabel('Backward Displacement', fontsize=16)\n",
    "\n",
    "ax_top.set_xlim(ax[1].get_xlim()[::-1])\n",
    "ax[1].legend()\n",
    "\n",
    "fig.set_size_inches(9, 4)\n",
    "fig.tight_layout()"
   ]
  },
  {
   "cell_type": "markdown",
   "metadata": {},
   "source": [
    "The above chart shows the electron charge density as a function of displacement along the trajectory. `0` is the starting point, `1` is where the pattern repeats itself, and we show two periods of this function. First, as shown in the plot on the left, the forward direction has the lowest charge density just before it experiences the largest peak (when passing closest to an atom). In contrast, the backward direction experiences the lowest density immediately after the close pass to an atom. As shown in the plot on the right, the particles experience the same enviroments (the same charge density), but in reverse order. In short, the particles experience the same events in different orders and we find that this history matters."
   ]
  },
  {
   "cell_type": "code",
   "execution_count": 22,
   "metadata": {
    "execution": {
     "iopub.execute_input": "2022-08-18T15:19:21.909574Z",
     "iopub.status.busy": "2022-08-18T15:19:21.909269Z",
     "iopub.status.idle": "2022-08-18T15:19:25.282902Z",
     "shell.execute_reply": "2022-08-18T15:19:25.283255Z"
    }
   },
   "outputs": [
    {
     "data": {
      "image/png": "[encoded data removed]",
      "text/plain": [
       "<Figure size 432x305.47 with 1 Axes>"
      ]
     },
     "metadata": {},
     "output_type": "display_data"
    }
   ],
   "source": [
    "def make_trajectory_plot(ax, origin, vec1, vec2, x_dist, y_dist):\n",
    "    # Compute the normal vectors\n",
    "    unitvec1 = np.array(vec1) / np.linalg.norm(vec1)\n",
    "    unitvec2 = np.array(vec2) / np.linalg.norm(vec2)\n",
    "    \n",
    "    # Make the grid\n",
    "    x_spacing = np.linspace(0, x_dist, int(200 * x_dist / (x_dist + y_dist)))\n",
    "    y_spacing = np.linspace(0, y_dist, int(200 * y_dist / (x_dist + y_dist)))\n",
    "    xs, ys = np.meshgrid(x_spacing, y_spacing)\n",
    "    points = np.array([i * unitvec1 + j * unitvec2 + origin for i,j in zip(xs.flatten(), ys.flatten())])\n",
    "    points = (points / 4) % 1\n",
    "    \n",
    "    # Make the plots\n",
    "    pct = ax.pcolor(xs, ys, np.log(charge_density(points).reshape(xs.shape)), vmin=-3, vmax=1, cmap='Greys')\n",
    "    \n",
    "    ax.set_xticks([])\n",
    "    ax.set_yticks([])\n",
    "    return pct\n",
    "\n",
    "fig, ax = plt.subplots()\n",
    "\n",
    "make_trajectory_plot(ax, [0,0,0], [1,0,0], [0,1,1], 2, 1 * np.sqrt(2))\n",
    "ax.plot([0,2],[0.35 * np.sqrt(2), np.sqrt(2) * 0.85 ], 'r', lw=4)\n",
    "ax.plot([0,2],[0.35 * np.sqrt(2), ] * 2, 'b--')\n",
    "fig.set_size_inches(6, 3 * np.sqrt(2))"
   ]
  },
  {
   "cell_type": "markdown",
   "metadata": {},
   "source": [
    "Another view of the asymmetry. The above plot shows the path of our particle in the $(01\\bar{1})$ plane in the red, solid line. This path corresponds to one period of the function shown above. Note that a particle traveling forward (left-to-right) experiences two near passes between atoms - one closer than another - and two segments between atoms - one longer than another. It goes 'far pass'->'short distance'->'close pass'->'long distance'. The backward direction goes 'long distance'->'close pass'->'short distance'->'far pass'. The order of these events is different, which is the source of our asymmetry."
   ]
  },
  {
   "cell_type": "markdown",
   "metadata": {},
   "source": [
    "### Why was the original path symmetric?\n",
    "The blue, dashed lines shows a hypothetical particle that starts slightly off the center of the $[100]$ channel, and follows the channel direction. This particle only experiences a single close pass to an atom, the forward and backward approaches are symmetric. Therefore, the stopping powers in each direction should be the same."
   ]
  },
  {
   "cell_type": "code",
   "execution_count": 23,
   "metadata": {
    "execution": {
     "iopub.execute_input": "2022-08-18T15:19:25.285147Z",
     "iopub.status.busy": "2022-08-18T15:19:25.284746Z",
     "iopub.status.idle": "2022-08-18T15:19:25.286876Z",
     "shell.execute_reply": "2022-08-18T15:19:25.287194Z"
    }
   },
   "outputs": [],
   "source": [
    "starting_point = [0, 0.75, 0.85]\n",
    "direction = np.array([1, 0, 0])"
   ]
  },
  {
   "cell_type": "code",
   "execution_count": 24,
   "metadata": {
    "execution": {
     "iopub.execute_input": "2022-08-18T15:19:25.288601Z",
     "iopub.status.busy": "2022-08-18T15:19:25.288268Z",
     "iopub.status.idle": "2022-08-18T15:19:25.310673Z",
     "shell.execute_reply": "2022-08-18T15:19:25.310923Z"
    }
   },
   "outputs": [],
   "source": [
    "forward = compute_stopping_power(starting_point, direction)"
   ]
  },
  {
   "cell_type": "code",
   "execution_count": 25,
   "metadata": {
    "execution": {
     "iopub.execute_input": "2022-08-18T15:19:25.313693Z",
     "iopub.status.busy": "2022-08-18T15:19:25.313130Z",
     "iopub.status.idle": "2022-08-18T15:19:25.336803Z",
     "shell.execute_reply": "2022-08-18T15:19:25.336482Z"
    }
   },
   "outputs": [],
   "source": [
    "backward = compute_stopping_power(starting_point, -direction)"
   ]
  },
  {
   "cell_type": "code",
   "execution_count": 26,
   "metadata": {
    "execution": {
     "iopub.execute_input": "2022-08-18T15:19:25.339892Z",
     "iopub.status.busy": "2022-08-18T15:19:25.339441Z",
     "iopub.status.idle": "2022-08-18T15:19:27.272984Z",
     "shell.execute_reply": "2022-08-18T15:19:27.272702Z"
    }
   },
   "outputs": [
    {
     "name": "stdout",
     "output_type": "stream",
     "text": [
      "CPU times: user 5.55 ms, sys: 17.3 ms, total: 22.8 ms\n",
      "Wall time: 1.93 s\n"
     ]
    }
   ],
   "source": [
    "%%time\n",
    "forward = forward.result(); backward = backward.result()"
   ]
  },
  {
   "cell_type": "code",
   "execution_count": 27,
   "metadata": {
    "execution": {
     "iopub.execute_input": "2022-08-18T15:19:27.275613Z",
     "iopub.status.busy": "2022-08-18T15:19:27.275302Z",
     "iopub.status.idle": "2022-08-18T15:19:27.276903Z",
     "shell.execute_reply": "2022-08-18T15:19:27.277156Z"
    }
   },
   "outputs": [
    {
     "name": "stdout",
     "output_type": "stream",
     "text": [
      "Forward stopping power:  0.23452312496366148\n",
      "Backward stopping power:  0.23454066356540618\n",
      "Difference:  1.753860174469324e-05\n"
     ]
    }
   ],
   "source": [
    "print('Forward stopping power: ', forward[0])\n",
    "print('Backward stopping power: ', backward[0])\n",
    "print('Difference: ', backward[0]-forward[0])"
   ]
  },
  {
   "cell_type": "markdown",
   "metadata": {},
   "source": [
    "And they are."
   ]
  },
  {
   "cell_type": "markdown",
   "metadata": {},
   "source": [
    "#### A harder example\n",
    "In this section, we test a more complicated trajectory: the $[311]$ direction."
   ]
  },
  {
   "cell_type": "code",
   "execution_count": 28,
   "metadata": {
    "execution": {
     "iopub.execute_input": "2022-08-18T15:19:27.279396Z",
     "iopub.status.busy": "2022-08-18T15:19:27.279082Z",
     "iopub.status.idle": "2022-08-18T15:19:27.280135Z",
     "shell.execute_reply": "2022-08-18T15:19:27.280391Z"
    }
   },
   "outputs": [],
   "source": [
    "starting_point = [0, 0.75, 0.75]\n",
    "direction = np.array([3, 1, 1])"
   ]
  },
  {
   "cell_type": "code",
   "execution_count": 29,
   "metadata": {
    "execution": {
     "iopub.execute_input": "2022-08-18T15:19:27.282445Z",
     "iopub.status.busy": "2022-08-18T15:19:27.282061Z",
     "iopub.status.idle": "2022-08-18T15:19:27.310917Z",
     "shell.execute_reply": "2022-08-18T15:19:27.310326Z"
    }
   },
   "outputs": [],
   "source": [
    "forward = compute_stopping_power(starting_point, direction)"
   ]
  },
  {
   "cell_type": "code",
   "execution_count": 30,
   "metadata": {
    "execution": {
     "iopub.execute_input": "2022-08-18T15:19:27.330785Z",
     "iopub.status.busy": "2022-08-18T15:19:27.313816Z",
     "iopub.status.idle": "2022-08-18T15:19:27.340310Z",
     "shell.execute_reply": "2022-08-18T15:19:27.340905Z"
    }
   },
   "outputs": [],
   "source": [
    "backward = compute_stopping_power(starting_point, -direction)"
   ]
  },
  {
   "cell_type": "code",
   "execution_count": 31,
   "metadata": {
    "execution": {
     "iopub.execute_input": "2022-08-18T15:19:27.344644Z",
     "iopub.status.busy": "2022-08-18T15:19:27.344175Z",
     "iopub.status.idle": "2022-08-18T15:19:35.086589Z",
     "shell.execute_reply": "2022-08-18T15:19:35.086846Z"
    }
   },
   "outputs": [
    {
     "name": "stdout",
     "output_type": "stream",
     "text": [
      "CPU times: user 4.26 ms, sys: 24.4 ms, total: 28.7 ms\n",
      "Wall time: 7.74 s\n"
     ]
    }
   ],
   "source": [
    "%%time\n",
    "forward = forward.result(); backward = backward.result()"
   ]
  },
  {
   "cell_type": "code",
   "execution_count": 32,
   "metadata": {
    "execution": {
     "iopub.execute_input": "2022-08-18T15:19:35.089862Z",
     "iopub.status.busy": "2022-08-18T15:19:35.089562Z",
     "iopub.status.idle": "2022-08-18T15:19:35.090995Z",
     "shell.execute_reply": "2022-08-18T15:19:35.091235Z"
    }
   },
   "outputs": [
    {
     "name": "stdout",
     "output_type": "stream",
     "text": [
      "Forward stopping power:  0.24468297818382648\n",
      "Backward stopping power:  0.24472435863200884\n",
      "Difference:  4.1380448182359864e-05\n"
     ]
    }
   ],
   "source": [
    "print('Forward stopping power: ', forward[0])\n",
    "print('Backward stopping power: ', backward[0])\n",
    "print('Difference: ', backward[0]-forward[0])"
   ]
  },
  {
   "cell_type": "markdown",
   "metadata": {},
   "source": [
    "As expected, the stopping powers are the same."
   ]
  },
  {
   "cell_type": "code",
   "execution_count": 33,
   "metadata": {
    "execution": {
     "iopub.execute_input": "2022-08-18T15:19:35.104344Z",
     "iopub.status.busy": "2022-08-18T15:19:35.104011Z",
     "iopub.status.idle": "2022-08-18T15:19:38.373393Z",
     "shell.execute_reply": "2022-08-18T15:19:38.373666Z"
    }
   },
   "outputs": [
    {
     "data": {
      "image/png": "[encoded data removed]",
      "text/plain": [
       "<Figure size 432x305.47 with 1 Axes>"
      ]
     },
     "metadata": {},
     "output_type": "display_data"
    }
   ],
   "source": [
    "fig, ax = plt.subplots()\n",
    "\n",
    "make_trajectory_plot(ax, [0,0,0], [1,0,0], [0,1,1], 3, 1.5 * np.sqrt(2))\n",
    "ax.plot([0,3],[0.25 * np.sqrt(2), np.sqrt(2) * 1.25 ], 'r', lw=4)\n",
    "ax.plot([0,3],[0.3 * np.sqrt(2), np.sqrt(2) * 1.3 ], 'b--')\n",
    "fig.set_size_inches(6, 3 * np.sqrt(2))"
   ]
  },
  {
   "cell_type": "markdown",
   "metadata": {},
   "source": [
    "The above plot shows one period of the $[311]$ trajectory in the solid, red line. Note that the forward and backwards directions are symmetric. If we bump the trajectory slightly up (blue, dashed line), we destroy the forward/backward symmetry (see below)."
   ]
  },
  {
   "cell_type": "code",
   "execution_count": 34,
   "metadata": {
    "execution": {
     "iopub.execute_input": "2022-08-18T15:19:38.376022Z",
     "iopub.status.busy": "2022-08-18T15:19:38.375313Z",
     "iopub.status.idle": "2022-08-18T15:19:38.378411Z",
     "shell.execute_reply": "2022-08-18T15:19:38.378868Z"
    }
   },
   "outputs": [],
   "source": [
    "starting_point = [0, 0.75, 0.8]\n",
    "direction = np.array([3, 1, 1])"
   ]
  },
  {
   "cell_type": "code",
   "execution_count": 35,
   "metadata": {
    "execution": {
     "iopub.execute_input": "2022-08-18T15:19:38.380985Z",
     "iopub.status.busy": "2022-08-18T15:19:38.380358Z",
     "iopub.status.idle": "2022-08-18T15:19:38.404051Z",
     "shell.execute_reply": "2022-08-18T15:19:38.403794Z"
    }
   },
   "outputs": [],
   "source": [
    "forward = compute_stopping_power(starting_point, direction)"
   ]
  },
  {
   "cell_type": "code",
   "execution_count": 36,
   "metadata": {
    "execution": {
     "iopub.execute_input": "2022-08-18T15:19:38.424456Z",
     "iopub.status.busy": "2022-08-18T15:19:38.406136Z",
     "iopub.status.idle": "2022-08-18T15:19:38.433981Z",
     "shell.execute_reply": "2022-08-18T15:19:38.433703Z"
    }
   },
   "outputs": [],
   "source": [
    "backward = compute_stopping_power(starting_point, -direction)"
   ]
  },
  {
   "cell_type": "code",
   "execution_count": 37,
   "metadata": {
    "execution": {
     "iopub.execute_input": "2022-08-18T15:19:38.436568Z",
     "iopub.status.busy": "2022-08-18T15:19:38.436286Z",
     "iopub.status.idle": "2022-08-18T15:19:53.170525Z",
     "shell.execute_reply": "2022-08-18T15:19:53.170772Z"
    }
   },
   "outputs": [
    {
     "name": "stdout",
     "output_type": "stream",
     "text": [
      "CPU times: user 12.9 ms, sys: 35.8 ms, total: 48.7 ms\n",
      "Wall time: 14.7 s\n"
     ]
    }
   ],
   "source": [
    "%%time\n",
    "forward = forward.result(); backward = backward.result()"
   ]
  },
  {
   "cell_type": "code",
   "execution_count": 38,
   "metadata": {
    "execution": {
     "iopub.execute_input": "2022-08-18T15:19:53.173247Z",
     "iopub.status.busy": "2022-08-18T15:19:53.172940Z",
     "iopub.status.idle": "2022-08-18T15:19:53.174758Z",
     "shell.execute_reply": "2022-08-18T15:19:53.174465Z"
    }
   },
   "outputs": [
    {
     "name": "stdout",
     "output_type": "stream",
     "text": [
      "Forward stopping power:  0.242485579515997\n",
      "Backward stopping power:  0.24233277575706058\n",
      "Difference:  -0.00015280375893642062\n"
     ]
    }
   ],
   "source": [
    "print('Forward stopping power: ', forward[0])\n",
    "print('Backward stopping power: ', backward[0])\n",
    "print('Difference: ', backward[0]-forward[0])"
   ]
  },
  {
   "cell_type": "markdown",
   "metadata": {},
   "source": [
    "The difference is present, but small because the perturbation from symmetrical is small."
   ]
  },
  {
   "cell_type": "code",
   "execution_count": null,
   "metadata": {},
   "outputs": [],
   "source": []
  }
 ],
 "metadata": {
  "kernelspec": {
   "display_name": "Python 3 (ipykernel)",
   "language": "python",
   "name": "python3"
  },
  "language_info": {
   "codemirror_mode": {
    "name": "ipython",
    "version": 3
   },
   "file_extension": ".py",
   "mimetype": "text/x-python",
   "name": "python",
   "nbconvert_exporter": "python",
   "pygments_lexer": "ipython3",
   "version": "3.9.16"
  }
 },
 "nbformat": 4,
 "nbformat_minor": 4
}
