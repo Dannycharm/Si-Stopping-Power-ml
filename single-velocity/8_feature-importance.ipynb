{
 "cells": [
  {
   "cell_type": "markdown",
   "id": "321dd4f3",
   "metadata": {},
   "source": [
    "# Assess Feature Importance\n",
    "See what the most-important features in our model are"
   ]
  },
  {
   "cell_type": "code",
   "execution_count": 1,
   "id": "88332460",
   "metadata": {},
   "outputs": [],
   "source": [
    "from matplotlib import pyplot as plt\n",
    "import pickle as pkl\n",
    "import pandas as pd\n",
    "import numpy as np"
   ]
  },
  {
   "cell_type": "markdown",
   "id": "c181749a",
   "metadata": {},
   "source": [
    "## Load in the Model, Featurizer, and Data\n",
    "Get the model from disk, which we'll use to get the selected features, and the featurizer which we'll use to get feature names.\n",
    "\n",
    "We also need the data to assess the influence of the figures on the "
   ]
  },
  {
   "cell_type": "code",
   "execution_count": 2,
   "id": "14c6cc20",
   "metadata": {},
   "outputs": [
    {
     "ename": "FileNotFoundError",
     "evalue": "[Errno 2] No such file or directory: 'best_model.pkl'",
     "output_type": "error",
     "traceback": [
      "\u001b[0;31m---------------------------------------------------------------------------\u001b[0m",
      "\u001b[0;31mFileNotFoundError\u001b[0m                         Traceback (most recent call last)",
      "Cell \u001b[0;32mIn[2], line 1\u001b[0m\n\u001b[0;32m----> 1\u001b[0m \u001b[38;5;28;01mwith\u001b[39;00m \u001b[38;5;28;43mopen\u001b[39;49m\u001b[43m(\u001b[49m\u001b[38;5;124;43m'\u001b[39;49m\u001b[38;5;124;43mbest_model.pkl\u001b[39;49m\u001b[38;5;124;43m'\u001b[39;49m\u001b[43m,\u001b[49m\u001b[43m \u001b[49m\u001b[38;5;124;43m'\u001b[39;49m\u001b[38;5;124;43mrb\u001b[39;49m\u001b[38;5;124;43m'\u001b[39;49m\u001b[43m)\u001b[49m \u001b[38;5;28;01mas\u001b[39;00m fp:\n\u001b[1;32m      2\u001b[0m     model \u001b[38;5;241m=\u001b[39m pkl\u001b[38;5;241m.\u001b[39mload(fp)\u001b[38;5;241m.\u001b[39mbest_estimator_  \u001b[38;5;66;03m# Go ahead and get the best model out of the GridSearchCV\u001b[39;00m\n",
      "File \u001b[0;32m/usr/local/python/3.9.16/lib/python3.9/site-packages/IPython/core/interactiveshell.py:284\u001b[0m, in \u001b[0;36m_modified_open\u001b[0;34m(file, *args, **kwargs)\u001b[0m\n\u001b[1;32m    277\u001b[0m \u001b[38;5;28;01mif\u001b[39;00m file \u001b[38;5;129;01min\u001b[39;00m {\u001b[38;5;241m0\u001b[39m, \u001b[38;5;241m1\u001b[39m, \u001b[38;5;241m2\u001b[39m}:\n\u001b[1;32m    278\u001b[0m     \u001b[38;5;28;01mraise\u001b[39;00m \u001b[38;5;167;01mValueError\u001b[39;00m(\n\u001b[1;32m    279\u001b[0m         \u001b[38;5;124mf\u001b[39m\u001b[38;5;124m\"\u001b[39m\u001b[38;5;124mIPython won\u001b[39m\u001b[38;5;124m'\u001b[39m\u001b[38;5;124mt let you open fd=\u001b[39m\u001b[38;5;132;01m{\u001b[39;00mfile\u001b[38;5;132;01m}\u001b[39;00m\u001b[38;5;124m by default \u001b[39m\u001b[38;5;124m\"\u001b[39m\n\u001b[1;32m    280\u001b[0m         \u001b[38;5;124m\"\u001b[39m\u001b[38;5;124mas it is likely to crash IPython. If you know what you are doing, \u001b[39m\u001b[38;5;124m\"\u001b[39m\n\u001b[1;32m    281\u001b[0m         \u001b[38;5;124m\"\u001b[39m\u001b[38;5;124myou can use builtins\u001b[39m\u001b[38;5;124m'\u001b[39m\u001b[38;5;124m open.\u001b[39m\u001b[38;5;124m\"\u001b[39m\n\u001b[1;32m    282\u001b[0m     )\n\u001b[0;32m--> 284\u001b[0m \u001b[38;5;28;01mreturn\u001b[39;00m \u001b[43mio_open\u001b[49m\u001b[43m(\u001b[49m\u001b[43mfile\u001b[49m\u001b[43m,\u001b[49m\u001b[43m \u001b[49m\u001b[38;5;241;43m*\u001b[39;49m\u001b[43margs\u001b[49m\u001b[43m,\u001b[49m\u001b[43m \u001b[49m\u001b[38;5;241;43m*\u001b[39;49m\u001b[38;5;241;43m*\u001b[39;49m\u001b[43mkwargs\u001b[49m\u001b[43m)\u001b[49m\n",
      "\u001b[0;31mFileNotFoundError\u001b[0m: [Errno 2] No such file or directory: 'best_model.pkl'"
     ]
    }
   ],
   "source": [
    "with open('best_model.pkl', 'rb') as fp:\n",
    "    model = pkl.load(fp).best_estimator_  # Go ahead and get the best model out of the GridSearchCV"
   ]
  },
  {
   "cell_type": "code",
   "execution_count": 3,
   "id": "55246214",
   "metadata": {},
   "outputs": [],
   "source": [
    "with open('../featurizers.pkl', 'rb') as fp:\n",
    "    featurizer = pkl.load(fp)"
   ]
  },
  {
   "cell_type": "code",
   "execution_count": 4,
   "id": "93d070f8",
   "metadata": {},
   "outputs": [],
   "source": [
    "with open('../al_starting_frame.pkl', 'rb') as fp:\n",
    "    atoms = pkl.load(fp)"
   ]
  },
  {
   "cell_type": "code",
   "execution_count": 5,
   "id": "21c6ff05",
   "metadata": {},
   "outputs": [],
   "source": [
    "data = pd.read_pickle('data/random_data.pkl.gz').query('not initial')"
   ]
  },
  {
   "cell_type": "code",
   "execution_count": 6,
   "id": "77db2e91",
   "metadata": {},
   "outputs": [
    {
     "data": {
      "text/plain": [
       "21321   -3.539587\n",
       "21322   -3.538461\n",
       "21323   -3.537322\n",
       "21324   -3.536171\n",
       "21325   -3.535010\n",
       "           ...   \n",
       "30695   -3.515691\n",
       "30696   -3.514837\n",
       "30697   -3.513993\n",
       "30698   -3.513160\n",
       "30699   -3.512337\n",
       "Name: charge density at t=0.00, Length: 9379, dtype: float64"
      ]
     },
     "execution_count": 6,
     "metadata": {},
     "output_type": "execute_result"
    }
   ],
   "source": [
    "data['charge density at t=0.00']"
   ]
  },
  {
   "cell_type": "markdown",
   "id": "0f4a03de",
   "metadata": {},
   "source": [
    "## Get the Names of the Selected Features\n",
    "There are two processes we need to pass the feature names through: going from base features to polynomial expansion, and from polynomial expansion to LASSO-selected features"
   ]
  },
  {
   "cell_type": "code",
   "execution_count": 7,
   "id": "2f566e0f",
   "metadata": {},
   "outputs": [
    {
     "name": "stdout",
     "output_type": "stream",
     "text": [
      "Starting with 18 initial features: charge density at t=-4.00, charge density at t=-3.00, charge density at t=-2.00, ...\n"
     ]
    }
   ],
   "source": [
    "features = featurizer.feature_labels()\n",
    "print(f'Starting with {len(features)} initial features: {\", \".join(features[:3])}, ...')"
   ]
  },
  {
   "cell_type": "markdown",
   "id": "0991b85a",
   "metadata": {},
   "source": [
    "Get the polynomial features"
   ]
  },
  {
   "cell_type": "code",
   "execution_count": 8,
   "id": "a81774bc",
   "metadata": {},
   "outputs": [],
   "source": [
    "expander = model.steps[0][1]"
   ]
  },
  {
   "cell_type": "code",
   "execution_count": 9,
   "id": "182f6c9e",
   "metadata": {},
   "outputs": [
    {
     "name": "stdout",
     "output_type": "stream",
     "text": [
      "Got a set of 189 polynomial features\n"
     ]
    }
   ],
   "source": [
    "expanded_features = expander.get_feature_names(features)\n",
    "print(f'Got a set of {len(expanded_features)} polynomial features')"
   ]
  },
  {
   "cell_type": "markdown",
   "id": "f50c9be1",
   "metadata": {},
   "source": [
    "Get the ones that were selected"
   ]
  },
  {
   "cell_type": "code",
   "execution_count": 10,
   "id": "59cc2bee",
   "metadata": {},
   "outputs": [],
   "source": [
    "selector = model.steps[1][1]\n",
    "selected_features = np.array(expanded_features)[selector.get_support()]"
   ]
  },
  {
   "cell_type": "code",
   "execution_count": 11,
   "id": "4395cc71",
   "metadata": {},
   "outputs": [
    {
     "name": "stdout",
     "output_type": "stream",
     "text": [
      "Selected down to 25 features by first LASSO pass\n"
     ]
    }
   ],
   "source": [
    "print(f'Selected down to {len(selected_features)} features by first LASSO pass')"
   ]
  },
  {
   "cell_type": "markdown",
   "id": "828eb9a4",
   "metadata": {},
   "source": [
    "Get the ones that are most important from the bayesian model"
   ]
  },
  {
   "cell_type": "code",
   "execution_count": 12,
   "id": "58836a23",
   "metadata": {},
   "outputs": [],
   "source": [
    "lr = model.steps[-1][1]"
   ]
  },
  {
   "cell_type": "code",
   "execution_count": 13,
   "id": "a8640f1b",
   "metadata": {},
   "outputs": [],
   "source": [
    "feature_by_coefs = pd.DataFrame({'name': selected_features, 'coef': lr.coef_})"
   ]
  },
  {
   "cell_type": "code",
   "execution_count": 14,
   "id": "57bb8a43",
   "metadata": {},
   "outputs": [],
   "source": [
    "feature_by_coefs['coef_mag'] = feature_by_coefs['coef'].abs()"
   ]
  },
  {
   "cell_type": "code",
   "execution_count": 15,
   "id": "b9b86291",
   "metadata": {},
   "outputs": [
    {
     "data": {
      "text/html": [
       "<div>\n",
       "<style scoped>\n",
       "    .dataframe tbody tr th:only-of-type {\n",
       "        vertical-align: middle;\n",
       "    }\n",
       "\n",
       "    .dataframe tbody tr th {\n",
       "        vertical-align: top;\n",
       "    }\n",
       "\n",
       "    .dataframe thead th {\n",
       "        text-align: right;\n",
       "    }\n",
       "</style>\n",
       "<table border=\"1\" class=\"dataframe\">\n",
       "  <thead>\n",
       "    <tr style=\"text-align: right;\">\n",
       "      <th></th>\n",
       "      <th>name</th>\n",
       "      <th>coef</th>\n",
       "      <th>coef_mag</th>\n",
       "    </tr>\n",
       "  </thead>\n",
       "  <tbody>\n",
       "    <tr>\n",
       "      <th>17</th>\n",
       "      <td>charge density at t=0.00 AGNI projected eta=1....</td>\n",
       "      <td>3.265077</td>\n",
       "      <td>3.265077</td>\n",
       "    </tr>\n",
       "    <tr>\n",
       "      <th>20</th>\n",
       "      <td>charge density at t=0.00 AGNI projected eta=1....</td>\n",
       "      <td>1.486059</td>\n",
       "      <td>1.486059</td>\n",
       "    </tr>\n",
       "    <tr>\n",
       "      <th>12</th>\n",
       "      <td>charge density at t=-2.00 AGNI projected eta=1...</td>\n",
       "      <td>-0.954772</td>\n",
       "      <td>0.954772</td>\n",
       "    </tr>\n",
       "    <tr>\n",
       "      <th>3</th>\n",
       "      <td>AGNI projected eta=1.23e+00</td>\n",
       "      <td>0.304534</td>\n",
       "      <td>0.304534</td>\n",
       "    </tr>\n",
       "    <tr>\n",
       "      <th>19</th>\n",
       "      <td>charge density at t=0.00 AGNI projected eta=2....</td>\n",
       "      <td>-0.253301</td>\n",
       "      <td>0.253301</td>\n",
       "    </tr>\n",
       "    <tr>\n",
       "      <th>4</th>\n",
       "      <td>ion-ion repulsion</td>\n",
       "      <td>0.200313</td>\n",
       "      <td>0.200313</td>\n",
       "    </tr>\n",
       "    <tr>\n",
       "      <th>18</th>\n",
       "      <td>charge density at t=0.00 AGNI projected eta=1....</td>\n",
       "      <td>0.186531</td>\n",
       "      <td>0.186531</td>\n",
       "    </tr>\n",
       "    <tr>\n",
       "      <th>21</th>\n",
       "      <td>charge density at t=0.00 ion-ion repulsion</td>\n",
       "      <td>0.166924</td>\n",
       "      <td>0.166924</td>\n",
       "    </tr>\n",
       "    <tr>\n",
       "      <th>10</th>\n",
       "      <td>charge density at t=-3.00 AGNI projected eta=1...</td>\n",
       "      <td>0.133569</td>\n",
       "      <td>0.133569</td>\n",
       "    </tr>\n",
       "    <tr>\n",
       "      <th>22</th>\n",
       "      <td>charge density at t=0.50 AGNI projected eta=8....</td>\n",
       "      <td>-0.032593</td>\n",
       "      <td>0.032593</td>\n",
       "    </tr>\n",
       "    <tr>\n",
       "      <th>7</th>\n",
       "      <td>charge density at t=-4.00 AGNI projected eta=1...</td>\n",
       "      <td>-0.028067</td>\n",
       "      <td>0.028067</td>\n",
       "    </tr>\n",
       "    <tr>\n",
       "      <th>13</th>\n",
       "      <td>charge density at t=-2.00 ion-ion repulsion</td>\n",
       "      <td>-0.020278</td>\n",
       "      <td>0.020278</td>\n",
       "    </tr>\n",
       "    <tr>\n",
       "      <th>14</th>\n",
       "      <td>charge density at t=-1.00 charge density at t=...</td>\n",
       "      <td>0.019694</td>\n",
       "      <td>0.019694</td>\n",
       "    </tr>\n",
       "    <tr>\n",
       "      <th>16</th>\n",
       "      <td>charge density at t=0.00 charge density at t=0.50</td>\n",
       "      <td>-0.018238</td>\n",
       "      <td>0.018238</td>\n",
       "    </tr>\n",
       "    <tr>\n",
       "      <th>0</th>\n",
       "      <td>charge density at t=0.50</td>\n",
       "      <td>-0.014947</td>\n",
       "      <td>0.014947</td>\n",
       "    </tr>\n",
       "    <tr>\n",
       "      <th>2</th>\n",
       "      <td>charge density at t=2.00</td>\n",
       "      <td>0.014885</td>\n",
       "      <td>0.014885</td>\n",
       "    </tr>\n",
       "    <tr>\n",
       "      <th>8</th>\n",
       "      <td>charge density at t=-3.00 charge density at t=...</td>\n",
       "      <td>-0.009342</td>\n",
       "      <td>0.009342</td>\n",
       "    </tr>\n",
       "    <tr>\n",
       "      <th>1</th>\n",
       "      <td>charge density at t=1.00</td>\n",
       "      <td>0.006274</td>\n",
       "      <td>0.006274</td>\n",
       "    </tr>\n",
       "    <tr>\n",
       "      <th>11</th>\n",
       "      <td>charge density at t=-2.00 charge density at t=...</td>\n",
       "      <td>0.004913</td>\n",
       "      <td>0.004913</td>\n",
       "    </tr>\n",
       "    <tr>\n",
       "      <th>9</th>\n",
       "      <td>charge density at t=-3.00 charge density at t=...</td>\n",
       "      <td>0.003182</td>\n",
       "      <td>0.003182</td>\n",
       "    </tr>\n",
       "    <tr>\n",
       "      <th>23</th>\n",
       "      <td>charge density at t=0.50 ion-ion repulsion</td>\n",
       "      <td>-0.002586</td>\n",
       "      <td>0.002586</td>\n",
       "    </tr>\n",
       "    <tr>\n",
       "      <th>6</th>\n",
       "      <td>charge density at t=-4.00 charge density at t=...</td>\n",
       "      <td>-0.002088</td>\n",
       "      <td>0.002088</td>\n",
       "    </tr>\n",
       "    <tr>\n",
       "      <th>5</th>\n",
       "      <td>charge density at t=-4.00^2</td>\n",
       "      <td>-0.000568</td>\n",
       "      <td>0.000568</td>\n",
       "    </tr>\n",
       "    <tr>\n",
       "      <th>15</th>\n",
       "      <td>charge density at t=-0.50 ion-ion repulsion</td>\n",
       "      <td>0.000557</td>\n",
       "      <td>0.000557</td>\n",
       "    </tr>\n",
       "    <tr>\n",
       "      <th>24</th>\n",
       "      <td>charge density at t=2.00 ion-ion repulsion</td>\n",
       "      <td>0.000019</td>\n",
       "      <td>0.000019</td>\n",
       "    </tr>\n",
       "  </tbody>\n",
       "</table>\n",
       "</div>"
      ],
      "text/plain": [
       "                                                 name      coef  coef_mag\n",
       "17  charge density at t=0.00 AGNI projected eta=1....  3.265077  3.265077\n",
       "20  charge density at t=0.00 AGNI projected eta=1....  1.486059  1.486059\n",
       "12  charge density at t=-2.00 AGNI projected eta=1... -0.954772  0.954772\n",
       "3                         AGNI projected eta=1.23e+00  0.304534  0.304534\n",
       "19  charge density at t=0.00 AGNI projected eta=2.... -0.253301  0.253301\n",
       "4                                   ion-ion repulsion  0.200313  0.200313\n",
       "18  charge density at t=0.00 AGNI projected eta=1....  0.186531  0.186531\n",
       "21         charge density at t=0.00 ion-ion repulsion  0.166924  0.166924\n",
       "10  charge density at t=-3.00 AGNI projected eta=1...  0.133569  0.133569\n",
       "22  charge density at t=0.50 AGNI projected eta=8.... -0.032593  0.032593\n",
       "7   charge density at t=-4.00 AGNI projected eta=1... -0.028067  0.028067\n",
       "13        charge density at t=-2.00 ion-ion repulsion -0.020278  0.020278\n",
       "14  charge density at t=-1.00 charge density at t=...  0.019694  0.019694\n",
       "16  charge density at t=0.00 charge density at t=0.50 -0.018238  0.018238\n",
       "0                            charge density at t=0.50 -0.014947  0.014947\n",
       "2                            charge density at t=2.00  0.014885  0.014885\n",
       "8   charge density at t=-3.00 charge density at t=... -0.009342  0.009342\n",
       "1                            charge density at t=1.00  0.006274  0.006274\n",
       "11  charge density at t=-2.00 charge density at t=...  0.004913  0.004913\n",
       "9   charge density at t=-3.00 charge density at t=...  0.003182  0.003182\n",
       "23         charge density at t=0.50 ion-ion repulsion -0.002586  0.002586\n",
       "6   charge density at t=-4.00 charge density at t=... -0.002088  0.002088\n",
       "5                         charge density at t=-4.00^2 -0.000568  0.000568\n",
       "15        charge density at t=-0.50 ion-ion repulsion  0.000557  0.000557\n",
       "24         charge density at t=2.00 ion-ion repulsion  0.000019  0.000019"
      ]
     },
     "execution_count": 15,
     "metadata": {},
     "output_type": "execute_result"
    }
   ],
   "source": [
    "feature_by_coefs.sort_values('coef_mag', ascending=False)"
   ]
  },
  {
   "cell_type": "markdown",
   "id": "81ba362f",
   "metadata": {},
   "source": [
    "**TODO**: Make a plot where we group the importance of charge density features where I group them by their time relative to present. May have to train a separate model where we do not use polynomial features and feature selection. The goal is to verify that importance decreases as you get farther from the present position."
   ]
  },
  {
   "cell_type": "markdown",
   "id": "021b0a36",
   "metadata": {},
   "source": [
    "Coefficients must be normalized to be useful and we trained our model without normalization. Interpreting these directly wouldn't be particularly useful."
   ]
  },
  {
   "cell_type": "code",
   "execution_count": 16,
   "id": "3c754e3a",
   "metadata": {},
   "outputs": [
    {
     "data": {
      "text/plain": [
       "['charge density at t=0.50',\n",
       " 'charge density at t=1.00',\n",
       " 'charge density at t=2.00',\n",
       " 'AGNI projected eta=1.23e+00',\n",
       " 'ion-ion repulsion',\n",
       " 'charge density at t=-4.00^2',\n",
       " 'charge density at t=-4.00 charge density at t=2.00',\n",
       " 'charge density at t=-4.00 AGNI projected eta=1.23e+00',\n",
       " 'charge density at t=-3.00 charge density at t=-1.00',\n",
       " 'charge density at t=-3.00 charge density at t=2.00',\n",
       " 'charge density at t=-3.00 AGNI projected eta=1.23e+00',\n",
       " 'charge density at t=-2.00 charge density at t=1.00',\n",
       " 'charge density at t=-2.00 AGNI projected eta=1.23e+00',\n",
       " 'charge density at t=-2.00 ion-ion repulsion',\n",
       " 'charge density at t=-1.00 charge density at t=-0.50',\n",
       " 'charge density at t=-0.50 ion-ion repulsion',\n",
       " 'charge density at t=0.00 charge density at t=0.50',\n",
       " 'charge density at t=0.00 AGNI projected eta=1.23e+00',\n",
       " 'charge density at t=0.00 AGNI projected eta=1.88e+00',\n",
       " 'charge density at t=0.00 AGNI projected eta=2.89e+00',\n",
       " 'charge density at t=0.00 AGNI projected eta=1.60e+01',\n",
       " 'charge density at t=0.00 ion-ion repulsion',\n",
       " 'charge density at t=0.50 AGNI projected eta=8.00e-01',\n",
       " 'charge density at t=0.50 ion-ion repulsion',\n",
       " 'charge density at t=2.00 ion-ion repulsion']"
      ]
     },
     "execution_count": 16,
     "metadata": {},
     "output_type": "execute_result"
    }
   ],
   "source": [
    "feature_by_coefs['name'].tolist()"
   ]
  },
  {
   "cell_type": "markdown",
   "id": "ef879b31",
   "metadata": {},
   "source": [
    "Ignoring the coefficients, we see at least a few key categories:\n",
    "1. Ion-ion repulsion. Things that include the Coulomb repulsion\n",
    "2. Charge density ahead. Dealing with the charge density ahead of the projectile\n",
    "3. Charge density behind"
   ]
  },
  {
   "cell_type": "code",
   "execution_count": 17,
   "id": "52ea706f",
   "metadata": {},
   "outputs": [],
   "source": [
    "feature_by_coefs['category'] = 'other'"
   ]
  },
  {
   "cell_type": "code",
   "execution_count": 18,
   "id": "ba9f57f6",
   "metadata": {},
   "outputs": [],
   "source": [
    "feature_by_coefs.loc[feature_by_coefs.name.str.contains('AGNI'), 'category'] = 'atomic'"
   ]
  },
  {
   "cell_type": "code",
   "execution_count": 19,
   "id": "e08a6192",
   "metadata": {},
   "outputs": [],
   "source": [
    "feature_by_coefs.loc[feature_by_coefs.name.str.contains('charge density at t='), 'category'] = 'ahead'"
   ]
  },
  {
   "cell_type": "code",
   "execution_count": 20,
   "id": "75edd573",
   "metadata": {},
   "outputs": [],
   "source": [
    "feature_by_coefs.loc[feature_by_coefs.name.str.contains('t=-'), 'category'] = 'behind'"
   ]
  },
  {
   "cell_type": "code",
   "execution_count": 21,
   "id": "1de1c4ae",
   "metadata": {},
   "outputs": [],
   "source": [
    "feature_by_coefs.loc[feature_by_coefs.name.str.contains('ion-ion'), 'category'] = 'coulomb'"
   ]
  },
  {
   "cell_type": "code",
   "execution_count": 22,
   "id": "fb29430b",
   "metadata": {},
   "outputs": [
    {
     "data": {
      "text/html": [
       "<div>\n",
       "<style scoped>\n",
       "    .dataframe tbody tr th:only-of-type {\n",
       "        vertical-align: middle;\n",
       "    }\n",
       "\n",
       "    .dataframe tbody tr th {\n",
       "        vertical-align: top;\n",
       "    }\n",
       "\n",
       "    .dataframe thead th {\n",
       "        text-align: right;\n",
       "    }\n",
       "</style>\n",
       "<table border=\"1\" class=\"dataframe\">\n",
       "  <thead>\n",
       "    <tr style=\"text-align: right;\">\n",
       "      <th></th>\n",
       "      <th>name</th>\n",
       "      <th>category</th>\n",
       "    </tr>\n",
       "  </thead>\n",
       "  <tbody>\n",
       "    <tr>\n",
       "      <th>0</th>\n",
       "      <td>charge density at t=0.50</td>\n",
       "      <td>ahead</td>\n",
       "    </tr>\n",
       "    <tr>\n",
       "      <th>1</th>\n",
       "      <td>charge density at t=1.00</td>\n",
       "      <td>ahead</td>\n",
       "    </tr>\n",
       "    <tr>\n",
       "      <th>2</th>\n",
       "      <td>charge density at t=2.00</td>\n",
       "      <td>ahead</td>\n",
       "    </tr>\n",
       "    <tr>\n",
       "      <th>3</th>\n",
       "      <td>AGNI projected eta=1.23e+00</td>\n",
       "      <td>atomic</td>\n",
       "    </tr>\n",
       "    <tr>\n",
       "      <th>4</th>\n",
       "      <td>ion-ion repulsion</td>\n",
       "      <td>coulomb</td>\n",
       "    </tr>\n",
       "    <tr>\n",
       "      <th>5</th>\n",
       "      <td>charge density at t=-4.00^2</td>\n",
       "      <td>behind</td>\n",
       "    </tr>\n",
       "    <tr>\n",
       "      <th>6</th>\n",
       "      <td>charge density at t=-4.00 charge density at t=...</td>\n",
       "      <td>behind</td>\n",
       "    </tr>\n",
       "    <tr>\n",
       "      <th>7</th>\n",
       "      <td>charge density at t=-4.00 AGNI projected eta=1...</td>\n",
       "      <td>behind</td>\n",
       "    </tr>\n",
       "    <tr>\n",
       "      <th>8</th>\n",
       "      <td>charge density at t=-3.00 charge density at t=...</td>\n",
       "      <td>behind</td>\n",
       "    </tr>\n",
       "    <tr>\n",
       "      <th>9</th>\n",
       "      <td>charge density at t=-3.00 charge density at t=...</td>\n",
       "      <td>behind</td>\n",
       "    </tr>\n",
       "    <tr>\n",
       "      <th>10</th>\n",
       "      <td>charge density at t=-3.00 AGNI projected eta=1...</td>\n",
       "      <td>behind</td>\n",
       "    </tr>\n",
       "    <tr>\n",
       "      <th>11</th>\n",
       "      <td>charge density at t=-2.00 charge density at t=...</td>\n",
       "      <td>behind</td>\n",
       "    </tr>\n",
       "    <tr>\n",
       "      <th>12</th>\n",
       "      <td>charge density at t=-2.00 AGNI projected eta=1...</td>\n",
       "      <td>behind</td>\n",
       "    </tr>\n",
       "    <tr>\n",
       "      <th>13</th>\n",
       "      <td>charge density at t=-2.00 ion-ion repulsion</td>\n",
       "      <td>coulomb</td>\n",
       "    </tr>\n",
       "    <tr>\n",
       "      <th>14</th>\n",
       "      <td>charge density at t=-1.00 charge density at t=...</td>\n",
       "      <td>behind</td>\n",
       "    </tr>\n",
       "    <tr>\n",
       "      <th>15</th>\n",
       "      <td>charge density at t=-0.50 ion-ion repulsion</td>\n",
       "      <td>coulomb</td>\n",
       "    </tr>\n",
       "    <tr>\n",
       "      <th>16</th>\n",
       "      <td>charge density at t=0.00 charge density at t=0.50</td>\n",
       "      <td>ahead</td>\n",
       "    </tr>\n",
       "    <tr>\n",
       "      <th>17</th>\n",
       "      <td>charge density at t=0.00 AGNI projected eta=1....</td>\n",
       "      <td>ahead</td>\n",
       "    </tr>\n",
       "    <tr>\n",
       "      <th>18</th>\n",
       "      <td>charge density at t=0.00 AGNI projected eta=1....</td>\n",
       "      <td>ahead</td>\n",
       "    </tr>\n",
       "    <tr>\n",
       "      <th>19</th>\n",
       "      <td>charge density at t=0.00 AGNI projected eta=2....</td>\n",
       "      <td>ahead</td>\n",
       "    </tr>\n",
       "    <tr>\n",
       "      <th>20</th>\n",
       "      <td>charge density at t=0.00 AGNI projected eta=1....</td>\n",
       "      <td>ahead</td>\n",
       "    </tr>\n",
       "    <tr>\n",
       "      <th>21</th>\n",
       "      <td>charge density at t=0.00 ion-ion repulsion</td>\n",
       "      <td>coulomb</td>\n",
       "    </tr>\n",
       "    <tr>\n",
       "      <th>22</th>\n",
       "      <td>charge density at t=0.50 AGNI projected eta=8....</td>\n",
       "      <td>ahead</td>\n",
       "    </tr>\n",
       "    <tr>\n",
       "      <th>23</th>\n",
       "      <td>charge density at t=0.50 ion-ion repulsion</td>\n",
       "      <td>coulomb</td>\n",
       "    </tr>\n",
       "    <tr>\n",
       "      <th>24</th>\n",
       "      <td>charge density at t=2.00 ion-ion repulsion</td>\n",
       "      <td>coulomb</td>\n",
       "    </tr>\n",
       "  </tbody>\n",
       "</table>\n",
       "</div>"
      ],
      "text/plain": [
       "                                                 name category\n",
       "0                            charge density at t=0.50    ahead\n",
       "1                            charge density at t=1.00    ahead\n",
       "2                            charge density at t=2.00    ahead\n",
       "3                         AGNI projected eta=1.23e+00   atomic\n",
       "4                                   ion-ion repulsion  coulomb\n",
       "5                         charge density at t=-4.00^2   behind\n",
       "6   charge density at t=-4.00 charge density at t=...   behind\n",
       "7   charge density at t=-4.00 AGNI projected eta=1...   behind\n",
       "8   charge density at t=-3.00 charge density at t=...   behind\n",
       "9   charge density at t=-3.00 charge density at t=...   behind\n",
       "10  charge density at t=-3.00 AGNI projected eta=1...   behind\n",
       "11  charge density at t=-2.00 charge density at t=...   behind\n",
       "12  charge density at t=-2.00 AGNI projected eta=1...   behind\n",
       "13        charge density at t=-2.00 ion-ion repulsion  coulomb\n",
       "14  charge density at t=-1.00 charge density at t=...   behind\n",
       "15        charge density at t=-0.50 ion-ion repulsion  coulomb\n",
       "16  charge density at t=0.00 charge density at t=0.50    ahead\n",
       "17  charge density at t=0.00 AGNI projected eta=1....    ahead\n",
       "18  charge density at t=0.00 AGNI projected eta=1....    ahead\n",
       "19  charge density at t=0.00 AGNI projected eta=2....    ahead\n",
       "20  charge density at t=0.00 AGNI projected eta=1....    ahead\n",
       "21         charge density at t=0.00 ion-ion repulsion  coulomb\n",
       "22  charge density at t=0.50 AGNI projected eta=8....    ahead\n",
       "23         charge density at t=0.50 ion-ion repulsion  coulomb\n",
       "24         charge density at t=2.00 ion-ion repulsion  coulomb"
      ]
     },
     "execution_count": 22,
     "metadata": {},
     "output_type": "execute_result"
    }
   ],
   "source": [
    "feature_by_coefs[['name', 'category']]"
   ]
  },
  {
   "cell_type": "markdown",
   "id": "c43a05a4",
   "metadata": {},
   "source": [
    "## Get the influence on predictions\n",
    "We are going to study the importance of features by assessing their impact on the force outcome as a function of position "
   ]
  },
  {
   "cell_type": "code",
   "execution_count": 23,
   "id": "10cbafac",
   "metadata": {},
   "outputs": [],
   "source": [
    "X = data[featurizer.feature_labels()]"
   ]
  },
  {
   "cell_type": "markdown",
   "id": "27bc0c14",
   "metadata": {},
   "source": [
    "Expand then select them"
   ]
  },
  {
   "cell_type": "code",
   "execution_count": 24,
   "id": "f26fe6da",
   "metadata": {},
   "outputs": [],
   "source": [
    "X_inputs = selector.transform(expander.transform(X))"
   ]
  },
  {
   "cell_type": "markdown",
   "id": "8e8b6cd0",
   "metadata": {},
   "source": [
    "We can now get the contribution of each point to the force prediction"
   ]
  },
  {
   "cell_type": "code",
   "execution_count": 25,
   "id": "071d2cf0",
   "metadata": {},
   "outputs": [],
   "source": [
    "contributions = np.multiply(X_inputs, lr.coef_)  # The coefficients work with unnormalized values\n",
    "contributions = pd.DataFrame(contributions, columns=selected_features)"
   ]
  },
  {
   "cell_type": "markdown",
   "id": "c09f82dd",
   "metadata": {},
   "source": [
    "Get the single features with the most prominent contribution at each stage"
   ]
  },
  {
   "cell_type": "code",
   "execution_count": 26,
   "id": "a511f544",
   "metadata": {},
   "outputs": [
    {
     "name": "stdout",
     "output_type": "stream",
     "text": [
      "Only 6 features are ever the most important\n"
     ]
    },
    {
     "data": {
      "text/plain": [
       "{'charge density at t=-1.00 charge density at t=-0.50',\n",
       " 'charge density at t=-3.00 charge density at t=-1.00',\n",
       " 'charge density at t=0.00 charge density at t=0.50',\n",
       " 'charge density at t=0.00 ion-ion repulsion',\n",
       " 'charge density at t=2.00',\n",
       " 'ion-ion repulsion'}"
      ]
     },
     "execution_count": 26,
     "metadata": {},
     "output_type": "execute_result"
    }
   ],
   "source": [
    "most_influential = contributions.abs().idxmax(axis=1)\n",
    "print(f'Only {len(set(most_influential))} features are ever the most important')\n",
    "set(most_influential)"
   ]
  },
  {
   "cell_type": "markdown",
   "id": "5e139e47",
   "metadata": {},
   "source": [
    "Grouping by category"
   ]
  },
  {
   "cell_type": "code",
   "execution_count": 27,
   "id": "4aaa46ef",
   "metadata": {},
   "outputs": [],
   "source": [
    "contrib_by_category = {}\n",
    "for gid, group in feature_by_coefs.groupby('category'):\n",
    "    contrib_by_category[gid] = contributions[group['name']].sum(axis=1).values\n",
    "contrib_by_category = pd.DataFrame(contrib_by_category)"
   ]
  },
  {
   "cell_type": "code",
   "execution_count": 28,
   "id": "c6fa40e5",
   "metadata": {},
   "outputs": [
    {
     "data": {
      "text/plain": [
       "ahead      0.651136\n",
       "coulomb    0.188400\n",
       "behind     0.160465\n",
       "dtype: float64"
      ]
     },
     "execution_count": 28,
     "metadata": {},
     "output_type": "execute_result"
    }
   ],
   "source": [
    "contrib_by_category.abs().idxmax(axis=1).value_counts() / len(contrib_by_category)"
   ]
  },
  {
   "cell_type": "markdown",
   "id": "81db53c8",
   "metadata": {},
   "source": [
    "The atomic features are generally the most important followed by the amorphous \"other\""
   ]
  },
  {
   "cell_type": "markdown",
   "id": "0699e15f",
   "metadata": {},
   "source": [
    "Plot which is dominant in different regions"
   ]
  },
  {
   "cell_type": "code",
   "execution_count": 29,
   "id": "04103e97",
   "metadata": {},
   "outputs": [],
   "source": [
    "relative_contribution = np.divide(contrib_by_category.abs(), contrib_by_category.abs().sum(axis=1).values[:, None])\n",
    "relative_contribution['largest'] = contrib_by_category.abs().idxmax(axis=1)"
   ]
  },
  {
   "cell_type": "code",
   "execution_count": 30,
   "id": "d5671091",
   "metadata": {},
   "outputs": [
    {
     "data": {
      "text/html": [
       "<div>\n",
       "<style scoped>\n",
       "    .dataframe tbody tr th:only-of-type {\n",
       "        vertical-align: middle;\n",
       "    }\n",
       "\n",
       "    .dataframe tbody tr th {\n",
       "        vertical-align: top;\n",
       "    }\n",
       "\n",
       "    .dataframe thead th {\n",
       "        text-align: right;\n",
       "    }\n",
       "</style>\n",
       "<table border=\"1\" class=\"dataframe\">\n",
       "  <thead>\n",
       "    <tr style=\"text-align: right;\">\n",
       "      <th></th>\n",
       "      <th>ahead</th>\n",
       "      <th>atomic</th>\n",
       "      <th>behind</th>\n",
       "      <th>coulomb</th>\n",
       "    </tr>\n",
       "  </thead>\n",
       "  <tbody>\n",
       "    <tr>\n",
       "      <th>count</th>\n",
       "      <td>937900.000000</td>\n",
       "      <td>937900.000000</td>\n",
       "      <td>937900.000000</td>\n",
       "      <td>937900.000000</td>\n",
       "    </tr>\n",
       "    <tr>\n",
       "      <th>mean</th>\n",
       "      <td>44.649033</td>\n",
       "      <td>0.418276</td>\n",
       "      <td>24.924974</td>\n",
       "      <td>30.007717</td>\n",
       "    </tr>\n",
       "    <tr>\n",
       "      <th>std</th>\n",
       "      <td>17.073201</td>\n",
       "      <td>0.475781</td>\n",
       "      <td>15.215292</td>\n",
       "      <td>15.852081</td>\n",
       "    </tr>\n",
       "    <tr>\n",
       "      <th>min</th>\n",
       "      <td>0.069275</td>\n",
       "      <td>0.000053</td>\n",
       "      <td>0.008079</td>\n",
       "      <td>0.018625</td>\n",
       "    </tr>\n",
       "    <tr>\n",
       "      <th>25%</th>\n",
       "      <td>33.792435</td>\n",
       "      <td>0.108055</td>\n",
       "      <td>12.550998</td>\n",
       "      <td>18.957468</td>\n",
       "    </tr>\n",
       "    <tr>\n",
       "      <th>50%</th>\n",
       "      <td>55.339427</td>\n",
       "      <td>0.279834</td>\n",
       "      <td>21.613096</td>\n",
       "      <td>29.401102</td>\n",
       "    </tr>\n",
       "    <tr>\n",
       "      <th>75%</th>\n",
       "      <td>56.561252</td>\n",
       "      <td>0.561426</td>\n",
       "      <td>39.128841</td>\n",
       "      <td>42.050774</td>\n",
       "    </tr>\n",
       "    <tr>\n",
       "      <th>max</th>\n",
       "      <td>92.150121</td>\n",
       "      <td>4.079392</td>\n",
       "      <td>76.333957</td>\n",
       "      <td>97.938940</td>\n",
       "    </tr>\n",
       "  </tbody>\n",
       "</table>\n",
       "</div>"
      ],
      "text/plain": [
       "               ahead         atomic         behind        coulomb\n",
       "count  937900.000000  937900.000000  937900.000000  937900.000000\n",
       "mean       44.649033       0.418276      24.924974      30.007717\n",
       "std        17.073201       0.475781      15.215292      15.852081\n",
       "min         0.069275       0.000053       0.008079       0.018625\n",
       "25%        33.792435       0.108055      12.550998      18.957468\n",
       "50%        55.339427       0.279834      21.613096      29.401102\n",
       "75%        56.561252       0.561426      39.128841      42.050774\n",
       "max        92.150121       4.079392      76.333957      97.938940"
      ]
     },
     "execution_count": 30,
     "metadata": {},
     "output_type": "execute_result"
    }
   ],
   "source": [
    "relative_contribution.describe() * 100"
   ]
  },
  {
   "cell_type": "code",
   "execution_count": 31,
   "id": "5fc2b7af",
   "metadata": {},
   "outputs": [],
   "source": [
    "relative_contribution['timestep'] = data['timestep'].values\n",
    "relative_contribution['displacement'] = data['displacement'].values"
   ]
  },
  {
   "cell_type": "markdown",
   "id": "5c09d527",
   "metadata": {},
   "source": [
    "We see that the atomic changes never contribute more than 4% of the total force prediction."
   ]
  },
  {
   "cell_type": "code",
   "execution_count": 32,
   "id": "888df325",
   "metadata": {},
   "outputs": [],
   "source": [
    "change_points = relative_contribution[(relative_contribution.largest != relative_contribution.shift(1).largest) | (relative_contribution.largest != relative_contribution.shift(-1).largest)]"
   ]
  },
  {
   "cell_type": "code",
   "execution_count": 33,
   "id": "9008915c",
   "metadata": {},
   "outputs": [
    {
     "data": {
      "text/plain": [
       "14.8857779054189"
      ]
     },
     "execution_count": 33,
     "metadata": {},
     "output_type": "execute_result"
    }
   ],
   "source": [
    "atoms.get_all_distances(mic=True)[:, 0].mean()"
   ]
  },
  {
   "cell_type": "code",
   "execution_count": 34,
   "id": "c5d586ac",
   "metadata": {},
   "outputs": [],
   "source": [
    "def find_closest_atom(position) -> float:\n",
    "    \"\"\"Find the distance to the closest atoms\"\"\"\n",
    "    \n",
    "    # Move the projectile\n",
    "    atoms.positions[-1, :] = position\n",
    "    \n",
    "    # Compute the distances to this atom\n",
    "    return atoms.get_distances(-1, slice(0, -1), mic=True).min()"
   ]
  },
  {
   "cell_type": "code",
   "execution_count": 35,
   "id": "d57b5ee4",
   "metadata": {},
   "outputs": [],
   "source": [
    "data['distance_to_atom'] = data['position'].apply(find_closest_atom)"
   ]
  },
  {
   "cell_type": "code",
   "execution_count": 36,
   "id": "74d4edca",
   "metadata": {},
   "outputs": [
    {
     "data": {
      "image/png": "[encoded data removed]",
      "text/plain": [
       "<Figure size 252x126 with 2 Axes>"
      ]
     },
     "metadata": {
      "needs_background": "light"
     },
     "output_type": "display_data"
    }
   ],
   "source": [
    "fig, ax = plt.subplots(figsize=(3.5, 1.75))\n",
    "\n",
    "# Colors for each type\n",
    "colors = {\n",
    "    'coulomb': 'darkgoldenrod',\n",
    "    'ahead': 'maroon',\n",
    "    'behind': 'steelblue'\n",
    "}\n",
    "\n",
    "# Plot the regions where different features dominate\n",
    "ax2 = ax.twinx()\n",
    "ax2.set_ylim([0, 1])\n",
    "widths = change_points.displacement.diff()[1::2].values\n",
    "labels = change_points.largest[::2].values\n",
    "starts = change_points.displacement[::2].values\n",
    "for label, color in colors.items():\n",
    "    label_text = label.capitalize()\n",
    "    if label_text != \"Coulomb\":\n",
    "        label_text = \"$\\\\rho$ \" + label_text\n",
    "    ax2.fill_between(data.displacement, 0, 1, where=relative_contribution.largest == label,\n",
    "                     color=color, alpha=0.4, label=label_text, lw=0)\n",
    "    \n",
    "\n",
    "# Plot the force for a background\n",
    "ax.plot(data.displacement, data['distance_to_atom'].values, color='k', lw=1.5)\n",
    "#ax.set_yscale('symlog')\n",
    "ax.set_ylabel('Distance to Atom ($\\\\AA$)', fontsize=9)\n",
    "ax.set_ylim(-0.1, 3.5)\n",
    "#ax.set_yticklabels([])\n",
    "    \n",
    "ax2.legend(ncol=1, fontsize=7, loc='lower right', framealpha=0.9)\n",
    "ax2.set_yticks([])\n",
    "\n",
    "# Plot only a major region\n",
    "ax.set_xlim(40, 70)\n",
    "ax.set_xlabel('Displacement ($a_B$)')\n",
    "\n",
    "fig.tight_layout()\n",
    "fig.savefig('figures/dominant-features-vs-distance.png', dpi=320)\n",
    "fig.savefig('figures/dominant-features-vs-distance.pdf')"
   ]
  },
  {
   "cell_type": "code",
   "execution_count": 37,
   "id": "bfaba697",
   "metadata": {},
   "outputs": [
    {
     "data": {
      "image/png": "[encoded data removed]",
      "text/plain": [
       "<Figure size 252x126 with 2 Axes>"
      ]
     },
     "metadata": {
      "needs_background": "light"
     },
     "output_type": "display_data"
    }
   ],
   "source": [
    "fig, ax = plt.subplots(figsize=(3.5, 1.75))\n",
    "\n",
    "# Colors for each type\n",
    "colors = {\n",
    "    'coulomb': 'darkgoldenrod',\n",
    "    'ahead': 'maroon',\n",
    "    'behind': 'steelblue'\n",
    "}\n",
    "\n",
    "# Plot the regions where different features dominate\n",
    "ax2 = ax.twinx()\n",
    "ax2.set_ylim([0, 1])\n",
    "widths = change_points.displacement.diff()[1::2].values\n",
    "labels = change_points.largest[::2].values\n",
    "starts = change_points.displacement[::2].values\n",
    "for label, color in colors.items():\n",
    "    label_text = label.capitalize()\n",
    "    if label_text != \"Coulomb\":\n",
    "        label_text = \"$\\\\rho$ \" + label_text\n",
    "    ax2.fill_between(data.displacement, 0, 1, where=relative_contribution.largest == label,\n",
    "                     color=color, alpha=0.4, label=label_text, lw=0, interpolate=True)\n",
    "    \n",
    "\n",
    "# Plot the force for a background\n",
    "ax.plot(data.displacement, np.exp(data['charge density at t=0.00'].values), color='k', lw=1.5)\n",
    "ax.set_yscale('log')\n",
    "ax.set_ylabel('Charge Density\\n($e / \\\\AA^3$)')\n",
    "#ax.set_yticklabels([])\n",
    "    \n",
    "ax2.legend(ncol=1, fontsize=7, loc='upper right', framealpha=0.9)\n",
    "ax2.set_yticks([])\n",
    "\n",
    "# Plot only a major region\n",
    "ax.set_xlim(40, 70)\n",
    "ax.set_xlabel('Displacement ($a_B$)')\n",
    "\n",
    "fig.tight_layout()\n",
    "fig.savefig('figures/dominant-features-vs-density.png', dpi=320)\n",
    "fig.savefig('figures/dominant-features-vs-density.pdf')"
   ]
  },
  {
   "cell_type": "code",
   "execution_count": 38,
   "id": "56f749b2",
   "metadata": {},
   "outputs": [
    {
     "data": {
      "image/png": "[encoded data removed]",
      "text/plain": [
       "<Figure size 252x126 with 2 Axes>"
      ]
     },
     "metadata": {
      "needs_background": "light"
     },
     "output_type": "display_data"
    }
   ],
   "source": [
    "fig, ax = plt.subplots(figsize=(3.5, 1.75))\n",
    "\n",
    "# Plot the force for a background\n",
    "ax.plot(data.timestep, data['force'].values, 'k--', lw=1.)\n",
    "ax.set_yscale('symlog')\n",
    "ax.set_ylabel('Force ($E_H/a_B$)')\n",
    "\n",
    "# Plot the regions where different features dominate\n",
    "ax2 = ax.twinx()\n",
    "ax2.set_ylim([0, 1])\n",
    "for c in relative_contribution.columns[:4]:\n",
    "    ax2.plot(relative_contribution.timestep, relative_contribution[c], label=c, lw=1)\n",
    "    \n",
    "ax2.legend(ncol=3, fontsize=8)\n",
    "ax2.set_yticks([])\n",
    "\n",
    "# Plot only a major region\n",
    "ax.set_xlim(3000, 4000)\n",
    "\n",
    "fig.savefig('figures/dominant-features-line.png', dpi=320)"
   ]
  },
  {
   "cell_type": "markdown",
   "id": "dd58265d",
   "metadata": {},
   "source": [
    "Let's see how they change over time"
   ]
  },
  {
   "cell_type": "markdown",
   "id": "d296f179",
   "metadata": {},
   "source": [
    "**TODO**: Quantify the correlation between different feature sets. Specifically, are the \"before\" features strongly correlated with the \"coulomb\"\n",
    "- Longer-term: Assess the feature importance using an \"ablation\" technique"
   ]
  },
  {
   "cell_type": "code",
   "execution_count": null,
   "id": "1d029ae6",
   "metadata": {},
   "outputs": [],
   "source": []
  }
 ],
 "metadata": {
  "kernelspec": {
   "display_name": "Python 3 (ipykernel)",
   "language": "python",
   "name": "python3"
  },
  "language_info": {
   "codemirror_mode": {
    "name": "ipython",
    "version": 3
   },
   "file_extension": ".py",
   "mimetype": "text/x-python",
   "name": "python",
   "nbconvert_exporter": "python",
   "pygments_lexer": "ipython3",
   "version": "3.9.16"
  }
 },
 "nbformat": 4,
 "nbformat_minor": 5
}
