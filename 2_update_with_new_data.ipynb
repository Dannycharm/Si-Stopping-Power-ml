{
 "cells": [
  {
   "cell_type": "markdown",
   "metadata": {},
   "source": [
    "# I used this script for the new 0.5 velocity data for the random trajectory"
   ]
  },
  {
   "cell_type": "markdown",
   "metadata": {},
   "source": [
    "#### Generate Representations\n",
    "In this notebook, we generate the inputs for the machine learning model. At the end of this notebook, we will have computed the features for all available data, and generated the pickle files needed to run these models for any available data."
   ]
  },
  {
   "cell_type": "code",
   "execution_count": 1,
   "metadata": {},
   "outputs": [],
   "source": [
    "%matplotlib inline\n",
    "from matplotlib import pyplot as plt\n",
    "from stopping_power_ml.features import LocalChargeDensity, IonIonForce, ProjectedAGNIFingerprints, ProjectileVelocity, TimeOffset\n",
    "from stopping_power_ml.io import get_charge_density_interpolator\n",
    "from matminer.featurizers.base import MultipleFeaturizer\n",
    "from tqdm import tqdm_notebook as tqdm\n",
    "from glob import glob\n",
    "import pickle as pkl\n",
    "import pandas as pd\n",
    "import numpy as np\n",
    "import gzip\n",
    "import sys\n",
    "import os\n",
    "import h5py"
   ]
  },
  {
   "cell_type": "markdown",
   "metadata": {},
   "source": [
    "Configure Parsl"
   ]
  },
  {
   "cell_type": "code",
   "execution_count": 2,
   "metadata": {},
   "outputs": [],
   "source": [
    "import parsl\n",
    "#from parsl.configs.local_ipp import config\n",
    "from parsl.configs.local_threads import config \n",
    "from parsl.app.app import python_app\n",
    "dfk = parsl.load(config)"
   ]
  },
  {
   "cell_type": "markdown",
   "metadata": {},
   "source": [
    "## Load in Dataset\n",
    "Load in the pickled dataset from `parse-qbox-data`"
   ]
  },
  {
   "cell_type": "code",
   "execution_count": 33,
   "metadata": {},
   "outputs": [
    {
     "name": "stdout",
     "output_type": "stream",
     "text": [
      "Loaded 222332 entries\n"
     ]
    },
    {
     "data": {
      "text/plain": [
       "Index(['frame_id', 'force', 'position', 'velocity', 'energy', 'file_id',\n",
       "       'file', 'timestep', 'displacement', 'directory'],\n",
       "      dtype='object')"
      ]
     },
     "execution_count": 33,
     "metadata": {},
     "output_type": "execute_result"
    }
   ],
   "source": [
    "data_1 = pkl.load(gzip.open('data_1.pkl.gz', 'rb'))\n",
    "print('Loaded %d entries'%len(data_1))\n",
    "data_1.columns\n"
   ]
  },
  {
   "cell_type": "code",
   "execution_count": 4,
   "metadata": {},
   "outputs": [],
   "source": [
    "\n",
    "\n",
    "h5f = h5py.File(\"new_random_data/random_v0.5.h5\", \"r\")\n",
    "\n",
    "\n",
    "data_list = []\n",
    "\n",
    "\n",
    "keys = list(h5f.keys())\n",
    "\n",
    "for k in keys:\n",
    "    \n",
    "    E = h5f[f'{k}/E'][:]        # Energy\n",
    "    pos = h5f[f'{k}/pos'][:]     # Position \n",
    "    disp = h5f[f'{k}/disp'][:]   # Displacement\n",
    "    vel = h5f[f'{k}/vel'][:]     # Velocity \n",
    "    force = h5f[f'{k}/sp'][:]    # Stopping force\n",
    "    \n",
    "    \n",
    "    file_id = [k] * E.shape[0]\n",
    "    \n",
    "    \n",
    "    for i in range(E.shape[0]):\n",
    "        data_list.append({\n",
    "            \"file_id\": file_id[i],\n",
    "            \"energy\": E[i],\n",
    "            \"position\": pos[i],   # Keep as 3-item array\n",
    "            \"displacement\": disp[i],\n",
    "            \"velocity\": vel[i],   # Keep as 3-item array\n",
    "            \"force\": force[i]\n",
    "        })\n",
    "\n",
    "# Close the HDF5 file\n",
    "h5f.close()\n",
    "\n",
    "# Convert the list of dictionaries into a DataFrame\n",
    "data_df = pd.DataFrame(data_list)\n",
    "\n",
    "# Save the DataFrame to a .pkl file\n",
    "with open(\"new_random_data.pkl\", \"wb\") as f:\n",
    "    pkl.dump(data_df, f)\n",
    "\n",
    "print(\"Data has been saved to data.pkl\")\n"
   ]
  },
  {
   "cell_type": "code",
   "execution_count": 5,
   "metadata": {},
   "outputs": [
    {
     "name": "stdout",
     "output_type": "stream",
     "text": [
      "Loaded 19502 entries\n",
      "0          [0.3130462, 0.32071948, 0.22167794]\n",
      "1          [0.3130462, 0.32071948, 0.22167794]\n",
      "2          [0.3130462, 0.32071948, 0.22167794]\n",
      "3          [0.3130462, 0.32071948, 0.22167794]\n",
      "4          [0.3130462, 0.32071948, 0.22167794]\n",
      "                         ...                  \n",
      "19496    [-0.0988002, -0.20926218, -0.4432244]\n",
      "19497    [-0.0988002, -0.20926218, -0.4432244]\n",
      "19498    [-0.0988002, -0.20926218, -0.4432244]\n",
      "19499    [-0.0988002, -0.20926218, -0.4432244]\n",
      "19500    [-0.0988002, -0.20926218, -0.4432244]\n",
      "Name: velocity, Length: 19501, dtype: object\n"
     ]
    }
   ],
   "source": [
    "new_random_data = pkl.load(open('new_random_data.pkl', 'rb'))\n",
    "print('Loaded %d entries'%len(new_random_data))\n",
    "new_random_data.columns\n",
    "print(new_random_data['velocity'][0:-1])"
   ]
  },
  {
   "cell_type": "code",
   "execution_count": null,
   "metadata": {},
   "outputs": [],
   "source": []
  },
  {
   "cell_type": "markdown",
   "metadata": {},
   "source": [
    "Load an example of the simualtion cell"
   ]
  },
  {
   "cell_type": "code",
   "execution_count": 6,
   "metadata": {},
   "outputs": [],
   "source": [
    "start_frame = pkl.load(open('Si_starting_frame.pkl', 'rb'))"
   ]
  },
  {
   "cell_type": "markdown",
   "metadata": {},
   "source": [
    "## Compute the Representation\n",
    "We use three kinds of features as input to our machine learning model:\n",
    "\n",
    "1. *Local Charge Density*: The local electron density at the projectile's current position and several positions in the future and past.\n",
    "1. *Local Environemnt*: Descriptions of the atom environment around the projectile using the AGNI fingerprints developed by [Botu *et al*](http://pubs.acs.org/doi/10.1021/acs.jpcc.6b10908)\n",
    "1. *Ion-Ion Repulsion*: The Coulombic repulsion force between the Si atoms and the projectile"
   ]
  },
  {
   "cell_type": "markdown",
   "metadata": {},
   "source": [
    "### Local Charge Density Features\n",
    "These features are based on the ground-state electronic structure of Si, as computed using DFT. The original "
   ]
  },
  {
   "cell_type": "code",
   "execution_count": 7,
   "metadata": {},
   "outputs": [
    {
     "name": "stdout",
     "output_type": "stream",
     "text": [
      "CPU times: user 6.21 ms, sys: 48.5 ms, total: 54.7 ms\n",
      "Wall time: 351 ms\n"
     ]
    }
   ],
   "source": [
    "%%time\n",
    "charge = pkl.load(open('density_12ePP_interp-nosym.pkl', 'rb'))"
   ]
  },
  {
   "cell_type": "code",
   "execution_count": 8,
   "metadata": {},
   "outputs": [],
   "source": [
    "charge_features = TimeOffset(start_frame, LocalChargeDensity(start_frame, charge))"
   ]
  },
  {
   "cell_type": "markdown",
   "metadata": {},
   "source": [
    "Compute the features. First, we define a parallel function with Parsl"
   ]
  },
  {
   "cell_type": "code",
   "execution_count": 9,
   "metadata": {},
   "outputs": [],
   "source": [
    "def compute_features(featurizer, data, chunks=96):\n",
    "    \"\"\"Compute the features for each entry in the dataframe.\n",
    "    \n",
    "    :param featurizer: tool used to compute the features\n",
    "    :param data: pd.DataFrame, data to be featurized\n",
    "    :param threads_per_worker: int, number of threads to run on each Parsl worker\n",
    "    :param chunks: int, number of pieces to evaluate in parallel\"\"\"\n",
    "    \n",
    "    featurizer.set_chunksize(None)\n",
    "    return featurizer.featurize_dataframe(data, ['position', 'velocity'], pbar=False)"
   ]
  },
  {
   "cell_type": "code",
   "execution_count": 10,
   "metadata": {},
   "outputs": [
    {
     "name": "stdout",
     "output_type": "stream",
     "text": [
      "CPU times: user 15.3 s, sys: 21.5 s, total: 36.7 s\n",
      "Wall time: 1min 37s\n"
     ]
    }
   ],
   "source": [
    "%%time\n",
    "data = compute_features(charge_features, new_random_data)"
   ]
  },
  {
   "cell_type": "markdown",
   "metadata": {},
   "source": [
    "Plot the variables on the random trajectory"
   ]
  },
  {
   "cell_type": "code",
   "execution_count": 35,
   "metadata": {},
   "outputs": [
    {
     "name": "stdout",
     "output_type": "stream",
     "text": [
      "<class 'pandas.core.frame.DataFrame'>\n",
      "Index(['file_id', 'energy', 'position', 'displacement', 'velocity', 'force',\n",
      "       'charge density at t=-4.00', 'charge density at t=-3.00',\n",
      "       'charge density at t=-2.00', 'charge density at t=-1.00',\n",
      "       'charge density at t=-0.50', 'charge density at t=0.00',\n",
      "       'charge density at t=0.50', 'charge density at t=1.00',\n",
      "       'charge density at t=2.00'],\n",
      "      dtype='object')\n"
     ]
    },
    {
     "data": {
      "text/plain": [
       "(19502, 15)"
      ]
     },
     "execution_count": 35,
     "metadata": {},
     "output_type": "execute_result"
    }
   ],
   "source": [
    "#subset = data[data['directory'].str.contains('data_silicon/silicon_data/2_Electronic_Stopping/H_Si/12epp/LDA_H_off_channel_12ePP/v_1.5')]\n",
    "print(type(data))\n",
    "print(data.columns)\n",
    "data.shape\n",
    "#data['timestep'] = np.linespace(0,19502, 19503)"
   ]
  },
  {
   "cell_type": "code",
   "execution_count": 14,
   "metadata": {},
   "outputs": [
    {
     "ename": "KeyError",
     "evalue": "'timestep'",
     "output_type": "error",
     "traceback": [
      "\u001b[0;31m---------------------------------------------------------------------------\u001b[0m",
      "\u001b[0;31mKeyError\u001b[0m                                  Traceback (most recent call last)",
      "File \u001b[0;32m/scratch/users/pdanie20/PD-stopping-power-ml/venv/lib/python3.9/site-packages/pandas/core/indexes/base.py:3805\u001b[0m, in \u001b[0;36mIndex.get_loc\u001b[0;34m(self, key)\u001b[0m\n\u001b[1;32m   3804\u001b[0m \u001b[38;5;28;01mtry\u001b[39;00m:\n\u001b[0;32m-> 3805\u001b[0m     \u001b[38;5;28;01mreturn\u001b[39;00m \u001b[38;5;28;43mself\u001b[39;49m\u001b[38;5;241;43m.\u001b[39;49m\u001b[43m_engine\u001b[49m\u001b[38;5;241;43m.\u001b[39;49m\u001b[43mget_loc\u001b[49m\u001b[43m(\u001b[49m\u001b[43mcasted_key\u001b[49m\u001b[43m)\u001b[49m\n\u001b[1;32m   3806\u001b[0m \u001b[38;5;28;01mexcept\u001b[39;00m \u001b[38;5;167;01mKeyError\u001b[39;00m \u001b[38;5;28;01mas\u001b[39;00m err:\n",
      "File \u001b[0;32mindex.pyx:167\u001b[0m, in \u001b[0;36mpandas._libs.index.IndexEngine.get_loc\u001b[0;34m()\u001b[0m\n",
      "File \u001b[0;32mindex.pyx:196\u001b[0m, in \u001b[0;36mpandas._libs.index.IndexEngine.get_loc\u001b[0;34m()\u001b[0m\n",
      "File \u001b[0;32mpandas/_libs/hashtable_class_helper.pxi:7081\u001b[0m, in \u001b[0;36mpandas._libs.hashtable.PyObjectHashTable.get_item\u001b[0;34m()\u001b[0m\n",
      "File \u001b[0;32mpandas/_libs/hashtable_class_helper.pxi:7089\u001b[0m, in \u001b[0;36mpandas._libs.hashtable.PyObjectHashTable.get_item\u001b[0;34m()\u001b[0m\n",
      "\u001b[0;31mKeyError\u001b[0m: 'timestep'",
      "\nThe above exception was the direct cause of the following exception:\n",
      "\u001b[0;31mKeyError\u001b[0m                                  Traceback (most recent call last)",
      "Cell \u001b[0;32mIn[14], line 4\u001b[0m\n\u001b[1;32m      1\u001b[0m fig, ax \u001b[38;5;241m=\u001b[39m plt\u001b[38;5;241m.\u001b[39msubplots(\u001b[38;5;241m1\u001b[39m, \u001b[38;5;241m2\u001b[39m)\n\u001b[1;32m      3\u001b[0m labels \u001b[38;5;241m=\u001b[39m charge_features\u001b[38;5;241m.\u001b[39mfeature_labels()\n\u001b[0;32m----> 4\u001b[0m ax[\u001b[38;5;241m0\u001b[39m]\u001b[38;5;241m.\u001b[39mplot(\u001b[43msubset\u001b[49m\u001b[43m[\u001b[49m\u001b[38;5;124;43m'\u001b[39;49m\u001b[38;5;124;43mtimestep\u001b[39;49m\u001b[38;5;124;43m'\u001b[39;49m\u001b[43m]\u001b[49m, subset[labels], \u001b[38;5;124m'\u001b[39m\u001b[38;5;124m-\u001b[39m\u001b[38;5;124m'\u001b[39m, label\u001b[38;5;241m=\u001b[39mlabels)\n\u001b[1;32m      5\u001b[0m ax[\u001b[38;5;241m1\u001b[39m]\u001b[38;5;241m.\u001b[39mplot(subset[\u001b[38;5;124m'\u001b[39m\u001b[38;5;124mtimestep\u001b[39m\u001b[38;5;124m'\u001b[39m], subset[labels])\n\u001b[1;32m      7\u001b[0m \u001b[38;5;66;03m#ax.legend(labels)\u001b[39;00m\n",
      "File \u001b[0;32m/scratch/users/pdanie20/PD-stopping-power-ml/venv/lib/python3.9/site-packages/pandas/core/frame.py:4102\u001b[0m, in \u001b[0;36mDataFrame.__getitem__\u001b[0;34m(self, key)\u001b[0m\n\u001b[1;32m   4100\u001b[0m \u001b[38;5;28;01mif\u001b[39;00m \u001b[38;5;28mself\u001b[39m\u001b[38;5;241m.\u001b[39mcolumns\u001b[38;5;241m.\u001b[39mnlevels \u001b[38;5;241m>\u001b[39m \u001b[38;5;241m1\u001b[39m:\n\u001b[1;32m   4101\u001b[0m     \u001b[38;5;28;01mreturn\u001b[39;00m \u001b[38;5;28mself\u001b[39m\u001b[38;5;241m.\u001b[39m_getitem_multilevel(key)\n\u001b[0;32m-> 4102\u001b[0m indexer \u001b[38;5;241m=\u001b[39m \u001b[38;5;28;43mself\u001b[39;49m\u001b[38;5;241;43m.\u001b[39;49m\u001b[43mcolumns\u001b[49m\u001b[38;5;241;43m.\u001b[39;49m\u001b[43mget_loc\u001b[49m\u001b[43m(\u001b[49m\u001b[43mkey\u001b[49m\u001b[43m)\u001b[49m\n\u001b[1;32m   4103\u001b[0m \u001b[38;5;28;01mif\u001b[39;00m is_integer(indexer):\n\u001b[1;32m   4104\u001b[0m     indexer \u001b[38;5;241m=\u001b[39m [indexer]\n",
      "File \u001b[0;32m/scratch/users/pdanie20/PD-stopping-power-ml/venv/lib/python3.9/site-packages/pandas/core/indexes/base.py:3812\u001b[0m, in \u001b[0;36mIndex.get_loc\u001b[0;34m(self, key)\u001b[0m\n\u001b[1;32m   3807\u001b[0m     \u001b[38;5;28;01mif\u001b[39;00m \u001b[38;5;28misinstance\u001b[39m(casted_key, \u001b[38;5;28mslice\u001b[39m) \u001b[38;5;129;01mor\u001b[39;00m (\n\u001b[1;32m   3808\u001b[0m         \u001b[38;5;28misinstance\u001b[39m(casted_key, abc\u001b[38;5;241m.\u001b[39mIterable)\n\u001b[1;32m   3809\u001b[0m         \u001b[38;5;129;01mand\u001b[39;00m \u001b[38;5;28many\u001b[39m(\u001b[38;5;28misinstance\u001b[39m(x, \u001b[38;5;28mslice\u001b[39m) \u001b[38;5;28;01mfor\u001b[39;00m x \u001b[38;5;129;01min\u001b[39;00m casted_key)\n\u001b[1;32m   3810\u001b[0m     ):\n\u001b[1;32m   3811\u001b[0m         \u001b[38;5;28;01mraise\u001b[39;00m InvalidIndexError(key)\n\u001b[0;32m-> 3812\u001b[0m     \u001b[38;5;28;01mraise\u001b[39;00m \u001b[38;5;167;01mKeyError\u001b[39;00m(key) \u001b[38;5;28;01mfrom\u001b[39;00m \u001b[38;5;21;01merr\u001b[39;00m\n\u001b[1;32m   3813\u001b[0m \u001b[38;5;28;01mexcept\u001b[39;00m \u001b[38;5;167;01mTypeError\u001b[39;00m:\n\u001b[1;32m   3814\u001b[0m     \u001b[38;5;66;03m# If we have a listlike key, _check_indexing_error will raise\u001b[39;00m\n\u001b[1;32m   3815\u001b[0m     \u001b[38;5;66;03m#  InvalidIndexError. Otherwise we fall through and re-raise\u001b[39;00m\n\u001b[1;32m   3816\u001b[0m     \u001b[38;5;66;03m#  the TypeError.\u001b[39;00m\n\u001b[1;32m   3817\u001b[0m     \u001b[38;5;28mself\u001b[39m\u001b[38;5;241m.\u001b[39m_check_indexing_error(key)\n",
      "\u001b[0;31mKeyError\u001b[0m: 'timestep'"
     ]
    },
    {
     "data": {
      "image/png": "[encoded data removed]",
      "text/plain": [
       "<Figure size 640x480 with 2 Axes>"
      ]
     },
     "metadata": {},
     "output_type": "display_data"
    }
   ],
   "source": [
    "fig, ax = plt.subplots(1, 2)\n",
    "\n",
    "labels = charge_features.feature_labels()\n",
    "ax[0].plot(subset['timestep'], subset[labels], '-', label=labels)\n",
    "ax[1].plot(subset['timestep'], subset[labels])\n",
    "\n",
    "#ax.legend(labels)\n",
    "ax[0].set_xlim(100, 300)\n",
    "#ax[0].set_ylim(0, 1.5)\n",
    "ax[1].set_xlim(0, 2000)\n",
    "for a in ax:\n",
    "    a.set_xlabel('Timestep')\n",
    "ax[0].set_ylabel('Feature Value')\n",
    "fig.set_size_inches(8, 4)"
   ]
  },
  {
   "cell_type": "markdown",
   "metadata": {},
   "source": [
    "## Compute AGNI Fingerprints\n",
    "Use these to describe the local enviroment around a particle"
   ]
  },
  {
   "cell_type": "code",
   "execution_count": 34,
   "metadata": {},
   "outputs": [],
   "source": [
    "agni_features = ProjectedAGNIFingerprints(start_frame, etas=np.logspace(np.log10(0.8), np.log10(16), 8).tolist(),\n",
    "                                          use_prim_cell=False)"
   ]
  },
  {
   "cell_type": "code",
   "execution_count": 36,
   "metadata": {},
   "outputs": [
    {
     "name": "stdout",
     "output_type": "stream",
     "text": [
      "CPU times: user 830 ms, sys: 5.13 s, total: 5.96 s\n",
      "Wall time: 1min 8s\n"
     ]
    }
   ],
   "source": [
    "%%time\n",
    "#data = agni_features.featurize_dataframe(data, 'atoms')\n",
    "data = compute_features(agni_features, data) # Turned off while writing this notebook"
   ]
  },
  {
   "cell_type": "markdown",
   "metadata": {},
   "source": [
    "## Compute Ion-Ion Interaction Forces\n",
    "Get the repulsion force due to the ion-ion repulsion from the surrounding Al nuclei. Specifically, we compute the force acting on the particle in the direction of travel using the [Ewald summation method](https://en.wikipedia.org/wiki/Ewald_summation)."
   ]
  },
  {
   "cell_type": "code",
   "execution_count": 37,
   "metadata": {},
   "outputs": [],
   "source": [
    "ewald_features = IonIonForce(start_frame, acc=4)"
   ]
  },
  {
   "cell_type": "code",
   "execution_count": 38,
   "metadata": {},
   "outputs": [
    {
     "name": "stdout",
     "output_type": "stream",
     "text": [
      "CPU times: user 712 ms, sys: 5.46 s, total: 6.18 s\n",
      "Wall time: 38.1 s\n"
     ]
    }
   ],
   "source": [
    "%%time\n",
    "data = compute_features(ewald_features, data) "
   ]
  },
  {
   "cell_type": "markdown",
   "metadata": {},
   "source": [
    "## Add Velocity as Feature\n",
    "Just the magnitude of the projectile velocity"
   ]
  },
  {
   "cell_type": "code",
   "execution_count": 39,
   "metadata": {},
   "outputs": [],
   "source": [
    "velocity_feature = ProjectileVelocity(start_frame)"
   ]
  },
  {
   "cell_type": "code",
   "execution_count": 40,
   "metadata": {},
   "outputs": [
    {
     "name": "stdout",
     "output_type": "stream",
     "text": [
      "CPU times: user 670 ms, sys: 4.32 s, total: 4.99 s\n",
      "Wall time: 9.85 s\n"
     ]
    }
   ],
   "source": [
    "%%time\n",
    "data = compute_features(velocity_feature, data) "
   ]
  },
  {
   "cell_type": "markdown",
   "metadata": {},
   "source": [
    "## Make a MultiFeaturizer\n",
    "Will enable computing features in parallel slightly faster.\n",
    "\n",
    "Also, for this project, we're going to skip the velocity feature"
   ]
  },
  {
   "cell_type": "code",
   "execution_count": 41,
   "metadata": {},
   "outputs": [],
   "source": [
    "featurizer = MultipleFeaturizer([charge_features, agni_features, ewald_features])"
   ]
  },
  {
   "cell_type": "markdown",
   "metadata": {},
   "source": [
    "## Save everything to disk\n",
    "Data and featurizers"
   ]
  },
  {
   "cell_type": "code",
   "execution_count": 42,
   "metadata": {},
   "outputs": [
    {
     "data": {
      "text/plain": [
       "Index(['file_id', 'energy', 'position', 'displacement', 'velocity', 'force',\n",
       "       'charge density at t=-4.00', 'charge density at t=-3.00',\n",
       "       'charge density at t=-2.00', 'charge density at t=-1.00',\n",
       "       'charge density at t=-0.50', 'charge density at t=0.00',\n",
       "       'charge density at t=0.50', 'charge density at t=1.00',\n",
       "       'charge density at t=2.00', 'AGNI projected eta=8.00e-01',\n",
       "       'AGNI projected eta=1.23e+00', 'AGNI projected eta=1.88e+00',\n",
       "       'AGNI projected eta=2.89e+00', 'AGNI projected eta=4.43e+00',\n",
       "       'AGNI projected eta=6.80e+00', 'AGNI projected eta=1.04e+01',\n",
       "       'AGNI projected eta=1.60e+01', 'ion-ion repulsion', 'velocity_mag'],\n",
       "      dtype='object')"
      ]
     },
     "execution_count": 42,
     "metadata": {},
     "output_type": "execute_result"
    }
   ],
   "source": [
    "data.columns"
   ]
  },
  {
   "cell_type": "code",
   "execution_count": 43,
   "metadata": {},
   "outputs": [],
   "source": [
    "data.to_pickle(gzip.open('new_training_data.pkl.gz', 'wb')) # the data with the 0.5 v"
   ]
  },
  {
   "cell_type": "code",
   "execution_count": 44,
   "metadata": {},
   "outputs": [],
   "source": [
    "pkl.dump(featurizer, open('new_featurizers.pkl', 'wb'))"
   ]
  },
  {
   "cell_type": "code",
   "execution_count": null,
   "metadata": {},
   "outputs": [],
   "source": [
    "dfk.cleanup()"
   ]
  },
  {
   "cell_type": "code",
   "execution_count": null,
   "metadata": {},
   "outputs": [],
   "source": []
  }
 ],
 "metadata": {
  "kernelspec": {
   "display_name": "venv",
   "language": "python",
   "name": "venv"
  },
  "language_info": {
   "codemirror_mode": {
    "name": "ipython",
    "version": 3
   },
   "file_extension": ".py",
   "mimetype": "text/x-python",
   "name": "python",
   "nbconvert_exporter": "python",
   "pygments_lexer": "ipython3",
   "version": "3.9.16"
  }
 },
 "nbformat": 4,
 "nbformat_minor": 4
}
