{
 "cells": [
  {
   "cell_type": "markdown",
   "metadata": {},
   "source": [
    "# Download Data\n",
    "Download the data used for this study from Petrel"
   ]
  },
  {
   "cell_type": "code",
   "execution_count": 1,
   "metadata": {},
   "outputs": [],
   "source": [
    "from globus_sdk import TransferData\n",
    "from mdf_forge import Forge\n",
    "import os"
   ]
  },
  {
   "cell_type": "markdown",
   "metadata": {},
   "source": [
    "Locations of data to be used in study"
   ]
  },
  {
   "cell_type": "code",
   "execution_count": 2,
   "metadata": {},
   "outputs": [],
   "source": [
    "source_ep = 'e38ee745-6d04-11e5-ba46-22000b92c6ec'\n",
    "source_paths = [os.path.join('Schleife', f) for f in [\n",
    "    '256_Al', 'Al_256_channel', 'Al_256_new'\n",
    "]]"
   ]
  },
  {
   "cell_type": "markdown",
   "metadata": {},
   "source": [
    "Where to save the data"
   ]
  },
  {
   "cell_type": "code",
   "execution_count": 3,
   "metadata": {},
   "outputs": [],
   "source": [
    "with open(os.path.join(os.path.expanduser('~'), '.globusonline', 'lta', 'client-id.txt')) as fp:\n",
    "    dest_ep = fp.readline()\n",
    "dest_path = os.path.abspath('datasets')"
   ]
  },
  {
   "cell_type": "markdown",
   "metadata": {},
   "source": [
    "## Get a Transfer Client\n",
    "Use Forge from the MDF Client to create a transfer client. Forge contains the logic for retrieving and saving the security tokens needed by Globus"
   ]
  },
  {
   "cell_type": "code",
   "execution_count": 5,
   "metadata": {},
   "outputs": [],
   "source": [
    "forge = Forge()"
   ]
  },
  {
   "cell_type": "code",
   "execution_count": 6,
   "metadata": {},
   "outputs": [],
   "source": [
    "transfer_client = forge.transfer_client"
   ]
  },
  {
   "cell_type": "markdown",
   "metadata": {},
   "source": [
    "## Initiate the Transfer\n",
    "Set up the transfer by defining the data to copy and where to put it"
   ]
  },
  {
   "cell_type": "code",
   "execution_count": 7,
   "metadata": {},
   "outputs": [],
   "source": [
    "tdata = TransferData(transfer_client, source_ep, dest_ep)"
   ]
  },
  {
   "cell_type": "code",
   "execution_count": 8,
   "metadata": {},
   "outputs": [],
   "source": [
    "for data in source_paths:\n",
    "    tdata.add_item(data, \n",
    "                   os.path.join(dest_path, os.path.basename(data)), recursive=True)"
   ]
  },
  {
   "cell_type": "code",
   "execution_count": 9,
   "metadata": {},
   "outputs": [
    {
     "data": {
      "text/plain": [
       "{'DATA_TYPE': 'transfer',\n",
       " 'submission_id': 'a151b911-b139-11e8-823e-0a3b7ca8ce66',\n",
       " 'source_endpoint': 'e38ee745-6d04-11e5-ba46-22000b92c6ec',\n",
       " 'destination_endpoint': '30b7bcac-b136-11e8-823e-0a3b7ca8ce66\\n',\n",
       " 'verify_checksum': False,\n",
       " 'preserve_timestamp': False,\n",
       " 'encrypt_data': False,\n",
       " 'recursive_symlinks': 'ignore',\n",
       " 'DATA': [{'DATA_TYPE': 'transfer_item',\n",
       "   'source_path': 'Schleife/256_Al',\n",
       "   'destination_path': '/home/wardlt/Schleife-Stopping-Power/datasets/256_Al',\n",
       "   'recursive': True},\n",
       "  {'DATA_TYPE': 'transfer_item',\n",
       "   'source_path': 'Schleife/Al_256_channel',\n",
       "   'destination_path': '/home/wardlt/Schleife-Stopping-Power/datasets/Al_256_channel',\n",
       "   'recursive': True},\n",
       "  {'DATA_TYPE': 'transfer_item',\n",
       "   'source_path': 'Schleife/Al_256_new',\n",
       "   'destination_path': '/home/wardlt/Schleife-Stopping-Power/datasets/Al_256_new',\n",
       "   'recursive': True}]}"
      ]
     },
     "execution_count": 9,
     "metadata": {},
     "output_type": "execute_result"
    }
   ],
   "source": [
    "tdata"
   ]
  },
  {
   "cell_type": "markdown",
   "metadata": {},
   "source": [
    "Submit the transfer"
   ]
  },
  {
   "cell_type": "code",
   "execution_count": 10,
   "metadata": {},
   "outputs": [],
   "source": [
    "trans_id = transfer_client.submit_transfer(tdata)"
   ]
  },
  {
   "cell_type": "markdown",
   "metadata": {},
   "source": [
    "Wait for it to finish"
   ]
  },
  {
   "cell_type": "code",
   "execution_count": 13,
   "metadata": {},
   "outputs": [
    {
     "data": {
      "text/plain": [
       "TransferResponse({'DATA_TYPE': 'transfer_result', 'code': 'Accepted', 'message': 'The transfer has been accepted and a task has been created and queued for execution', 'request_id': 'Y9zrJRcRv', 'resource': '/transfer', 'submission_id': 'a151b911-b139-11e8-823e-0a3b7ca8ce66', 'task_id': 'a151b910-b139-11e8-823e-0a3b7ca8ce66', 'task_link': {'DATA_TYPE': 'link', 'href': 'task/a151b910-b139-11e8-823e-0a3b7ca8ce66?format=json', 'rel': 'related', 'resource': 'task', 'title': 'related task'}})"
      ]
     },
     "execution_count": 13,
     "metadata": {},
     "output_type": "execute_result"
    }
   ],
   "source": [
    "trans_id"
   ]
  },
  {
   "cell_type": "code",
   "execution_count": 15,
   "metadata": {},
   "outputs": [],
   "source": [
    "while not transfer_client.task_wait(trans_id['task_id']):\n",
    "    tstatus = transfer_client.get_task(trans_id['task_id'])\n",
    "    print('\\rTransfer status: {} - Fraction complete: {:.2f}%'.format(tstatus['status'], tstatus['subtasks_succeeded'] / tstatus['subtasks_total'] * 100), \n",
    "         end=\"\")"
   ]
  },
  {
   "cell_type": "code",
   "execution_count": null,
   "metadata": {},
   "outputs": [],
   "source": []
  }
 ],
 "metadata": {
  "kernelspec": {
   "display_name": "Python 3 (ipykernel)",
   "language": "python",
   "name": "python3"
  },
  "language_info": {
   "codemirror_mode": {
    "name": "ipython",
    "version": 3
   },
   "file_extension": ".py",
   "mimetype": "text/x-python",
   "name": "python",
   "nbconvert_exporter": "python",
   "pygments_lexer": "ipython3",
   "version": "3.9.16"
  }
 },
 "nbformat": 4,
 "nbformat_minor": 4
}
