{
 "cells": [
  {
   "cell_type": "markdown",
   "metadata": {},
   "source": [
    "# Compute the Stopping Distance for a Projectile\n",
    "Compute the stopping distance of a projectile using the multi-velocity machine learning model.\n",
    "\n"
   ]
  },
  {
   "cell_type": "code",
   "execution_count": 1,
   "metadata": {},
   "outputs": [
    {
     "name": "stderr",
     "output_type": "stream",
     "text": [
      "2024-06-21 16:15:27.432534: I external/local_tsl/tsl/cuda/cudart_stub.cc:32] Could not find cuda drivers on your machine, GPU will not be used.\n",
      "2024-06-21 16:15:27.437343: I external/local_tsl/tsl/cuda/cudart_stub.cc:32] Could not find cuda drivers on your machine, GPU will not be used.\n",
      "2024-06-21 16:15:27.500418: I tensorflow/core/platform/cpu_feature_guard.cc:210] This TensorFlow binary is optimized to use available CPU instructions in performance-critical operations.\n",
      "To enable the following instructions: AVX2 FMA, in other operations, rebuild TensorFlow with the appropriate compiler flags.\n",
      "2024-06-21 16:15:30.135214: W tensorflow/compiler/tf2tensorrt/utils/py_utils.cc:38] TF-TRT Warning: Could not find TensorRT\n"
     ]
    }
   ],
   "source": [
    "%matplotlib inline\n",
    "from matplotlib import pyplot as plt\n",
    "import os\n",
    "import sys\n",
    "sys.path.append(f\"{os.getcwd()}/../../\")\n",
    "from stopping_power_ml.stop_distance import StoppingDistanceComputer\n",
    "from stopping_power_ml.integrator import TrajectoryIntegrator\n",
    "import pickle as pkl\n",
    "import pandas as pd\n",
    "import numpy as np\n",
    "import keras\n",
    "import os"
   ]
  },
  {
   "cell_type": "markdown",
   "metadata": {},
   "source": [
    "## Load in the Model and Featurizer\n",
    "The model is saved in Keras h5, and the featurizer is in the root directory"
   ]
  },
  {
   "cell_type": "code",
   "execution_count": 2,
   "metadata": {},
   "outputs": [
    {
     "name": "stderr",
     "output_type": "stream",
     "text": [
      "WARNING:absl:Compiled the loaded model, but the compiled metrics have yet to be built. `model.compile_metrics` will be empty until you train or evaluate the model.\n"
     ]
    }
   ],
   "source": [
    "model = keras.models.load_model(os.path.join( '/scratch/users/pdanie20/PD-stopping-power-ml/multiple-velocities/random_models/single_model.h5'))"
   ]
  },
  {
   "cell_type": "code",
   "execution_count": 3,
   "metadata": {},
   "outputs": [],
   "source": [
    "with open(os.path.join('..', 'featurizer.pkl'), 'rb') as fp:\n",
    "    featurizers = pkl.load(fp)"
   ]
  },
  {
   "cell_type": "code",
   "execution_count": 4,
   "metadata": {},
   "outputs": [],
   "source": [
    "start_frame = pkl.load(open(os.path.join('..', '..', 'al_starting_frame.pkl'), 'rb'))"
   ]
  },
  {
   "cell_type": "markdown",
   "metadata": {},
   "source": [
    "Get the channel data at a single velocity"
   ]
  },
  {
   "cell_type": "code",
   "execution_count": 5,
   "metadata": {},
   "outputs": [],
   "source": [
    "channel_data = pd.read_pickle(os.path.join('..', '..', 'single-velocity', 'data', 'channel_data.pkl.gz')).query('average_range')"
   ]
  },
  {
   "cell_type": "markdown",
   "metadata": {},
   "source": [
    "Get the minimum velocity of all training data"
   ]
  },
  {
   "cell_type": "code",
   "execution_count": 6,
   "metadata": {},
   "outputs": [],
   "source": [
    "min_velocity = pd.read_pickle(os.path.join('..', '..', 'training_data.pkl.gz'))['velocity_mag'].min()"
   ]
  },
  {
   "cell_type": "markdown",
   "metadata": {},
   "source": [
    "## Make the Trajectory Integration Tool\n",
    "This will black box the annoying parts of computing the force given position and velocity magnitude"
   ]
  },
  {
   "cell_type": "code",
   "execution_count": 7,
   "metadata": {},
   "outputs": [],
   "source": [
    "traj_int = TrajectoryIntegrator(start_frame, model, featurizers)"
   ]
  },
  {
   "cell_type": "code",
   "execution_count": 8,
   "metadata": {},
   "outputs": [],
   "source": [
    "f = traj_int.create_force_calculator_given_displacement([0, 0.75, 0.75], [1, 0, 0])"
   ]
  },
  {
   "cell_type": "markdown",
   "metadata": {},
   "source": [
    "Compare the predictions to the ML model run on the channel data"
   ]
  },
  {
   "cell_type": "code",
   "execution_count": 9,
   "metadata": {},
   "outputs": [
    {
     "name": "stdout",
     "output_type": "stream",
     "text": [
      "\u001b[1m34/34\u001b[0m \u001b[32m━━━━━━━━━━━━━━━━━━━━\u001b[0m\u001b[37m\u001b[0m \u001b[1m0s\u001b[0m 2ms/step\n"
     ]
    },
    {
     "data": {
      "image/png": "[encoded data removed]",
      "text/plain": [
       "<Figure size 350x200 with 1 Axes>"
      ]
     },
     "metadata": {},
     "output_type": "display_data"
    }
   ],
   "source": [
    "fig, ax = plt.subplots()\n",
    "\n",
    "X = np.linspace(10, 15, 32)\n",
    "\n",
    "ax.plot(channel_data['displacement'], \n",
    "        model.predict(channel_data[featurizers.feature_labels()]),\n",
    "        'k--')\n",
    "ax.plot(X, [f(x, channel_data['velocity_mag'].mean()) for x in X], label='Force Calculator',\n",
    "       alpha=0.7, color='r', lw=4)\n",
    "\n",
    "ax.set_xlabel('Displacement ($a_B$)')\n",
    "ax.set_ylabel('Force ($E_H / a_B$)')\n",
    "\n",
    "fig.set_size_inches(3.5, 2)\n",
    "fig.tight_layout()"
   ]
  },
  {
   "cell_type": "markdown",
   "metadata": {},
   "source": [
    "*Finding*: The predictions of the trajectory integrator (red) do agree with running the model on the training set. So, my implementation of the force function is correct"
   ]
  },
  {
   "cell_type": "markdown",
   "metadata": {},
   "source": [
    "## Make the Stopping Distance Tool\n",
    "Computing the stopping distance is accomplished by using Newton's Laws of Motions to determine how far the projectile travels before its velocity drops below a threshold. We are able to compute the force on the projectile using our ML model, and can solve Newton's Laws of Motion using standard ODE solvers. Hooking the ML model into the solvers requires a minor amount of glue code, so we have created a tool to provide a simpler interface"
   ]
  },
  {
   "cell_type": "code",
   "execution_count": 10,
   "metadata": {},
   "outputs": [],
   "source": [
    "stop_comp = StoppingDistanceComputer(traj_int)"
   ]
  },
  {
   "cell_type": "code",
   "execution_count": 11,
   "metadata": {},
   "outputs": [
    {
     "name": "stderr",
     "output_type": "stream",
     "text": [
      "WARNING:absl:You are saving your model as an HDF5 file via `model.save()` or `keras.saving.save_model(model)`. This file format is considered legacy. We recommend using instead the native Keras format, e.g. `model.save('my_model.keras')` or `keras.saving.save_model(model, 'my_model.keras')`. \n",
      "WARNING:absl:Compiled the loaded model, but the compiled metrics have yet to be built. `model.compile_metrics` will be empty until you train or evaluate the model.\n"
     ]
    }
   ],
   "source": [
    "# Make sure the pickling works\n",
    "assert isinstance(pkl.loads(pkl.dumps(stop_comp)), StoppingDistanceComputer)"
   ]
  },
  {
   "cell_type": "markdown",
   "metadata": {},
   "source": [
    "## Estimate Stopping Distance Along Channel\n",
    "Use an ODE solver to get the stopping distance along a channel"
   ]
  },
  {
   "cell_type": "code",
   "execution_count": 15,
   "metadata": {},
   "outputs": [
    {
     "name": "stdout",
     "output_type": "stream",
     "text": [
      "Step: 46 - Time: 41735.949355171615 - Velocity: 0.38398762219710686 - Position: 100553.96947007802 - time step: 480.2022675839544 cpu time: 0.6748 sec - wall time: 0.6748 sec  5 sec c \n",
      "CPU times: user 19.8 s, sys: 117 ms, total: 19.9 s\n",
      "Wall time: 20 s\n"
     ]
    }
   ],
   "source": [
    "%%time\n",
    "stop_comp.rtol = 1e-3\n",
    "stop_comp.atol = 1e-6\n",
    "dist_channel, pos_channel = stop_comp.compute_stopping_distance([0, 0.75, 0.75], [4, 0, 0], output=1)"
   ]
  },
  {
   "cell_type": "code",
   "execution_count": 16,
   "metadata": {},
   "outputs": [
    {
     "name": "stdout",
     "output_type": "stream",
     "text": [
      "Stopping distance: 100404.40 a_B\n"
     ]
    }
   ],
   "source": [
    "print('Stopping distance: {:.2f} a_B'.format(dist_channel))"
   ]
  },
  {
   "cell_type": "code",
   "execution_count": 17,
   "metadata": {},
   "outputs": [
    {
     "data": {
      "image/png": "[encoded data removed]",
      "text/plain": [
       "<Figure size 350x200 with 1 Axes>"
      ]
     },
     "metadata": {},
     "output_type": "display_data"
    }
   ],
   "source": [
    "fig, ax = plt.subplots()\n",
    "\n",
    "ax.plot(pos_channel['displacement'], pos_channel['velocity'])\n",
    "ax.set_xlabel('Displacement ($a_B$)')\n",
    "ax.set_ylabel('Velocity (a.u.)')\n",
    "\n",
    "# Plot the stopping distance and time\n",
    "ax.set_xlim(ax.get_xlim())\n",
    "ax.set_ylim(ax.get_ylim())\n",
    "ax.plot(ax.get_xlim(), [0.4]*2, 'k--', lw=0.5)\n",
    "ax.plot([dist_channel]*2, ax.get_ylim(), 'k--', lw=0.5)\n",
    "\n",
    "\n",
    "fig.set_size_inches(3.5, 2)\n",
    "fig.tight_layout()"
   ]
  },
  {
   "cell_type": "markdown",
   "metadata": {},
   "source": [
    "*Finding*: The curve has a reasonable shape. More or less linear at the beginning, and then quickly dropping as the particle slows down and the stopping power increases. The long flat tail is an artifact of the stopping power going to zero at non-zero velocity. The black dashed line shows the minimum velocity present in the training set. You'll note that the artifact is outside of our training range, suggesting we would need more training data at this velocity than what we currently have"
   ]
  },
  {
   "cell_type": "markdown",
   "metadata": {},
   "source": [
    "## Check that the tool works for off-channel trajectories\n",
    "These will have sharper changes in force than the on-channel directories. In this version, we also do not attempt to determine a stopping distance"
   ]
  },
  {
   "cell_type": "code",
   "execution_count": 15,
   "metadata": {},
   "outputs": [],
   "source": [
    "off_channel = [4, 2, 1]\n",
    "off_channel = np.divide(off_channel, np.linalg.norm(off_channel)) * 4"
   ]
  },
  {
   "cell_type": "code",
   "execution_count": 16,
   "metadata": {},
   "outputs": [
    {
     "name": "stdout",
     "output_type": "stream",
     "text": [
      "Initial velocity: [3.49148624 1.74574312 0.87287156]\n"
     ]
    }
   ],
   "source": [
    "print('Initial velocity:', off_channel)"
   ]
  },
  {
   "cell_type": "code",
   "execution_count": 17,
   "metadata": {},
   "outputs": [
    {
     "name": "stdout",
     "output_type": "stream",
     "text": [
      "Step: 324 - Time: 31432.59075459469 - Velocity: 0.38559916545845135 - Position: 65074.6644903591454066\n"
     ]
    }
   ],
   "source": [
    "dist_offchannel, pos_offchannel = stop_comp.compute_stopping_distance([0, 0.75, 0.75], off_channel, output=1)"
   ]
  },
  {
   "cell_type": "code",
   "execution_count": 18,
   "metadata": {},
   "outputs": [
    {
     "data": {
      "image/png": "[encoded data removed]",
      "text/plain": [
       "<Figure size 252x144 with 1 Axes>"
      ]
     },
     "metadata": {
      "needs_background": "light"
     },
     "output_type": "display_data"
    }
   ],
   "source": [
    "fig, ax = plt.subplots()\n",
    "\n",
    "ax.plot(pos_channel['displacement'], pos_channel['velocity'], 'b', label='Channel')\n",
    "ax.plot(pos_offchannel['displacement'], pos_offchannel['velocity'], 'r', label='$[4 2 1]$')\n",
    "\n",
    "ax.set_xlabel('Displacement ($a_B$)')\n",
    "ax.set_ylabel('Velocity (a.u.)')\n",
    "\n",
    "ax.legend()\n",
    "\n",
    "# Plot the stopping distance and time\n",
    "ax.set_xlim(ax.get_xlim())\n",
    "ax.set_ylim(ax.get_ylim())\n",
    "ax.plot(ax.get_xlim(), [0.4]*2, 'k--', lw=0.5)\n",
    "ax.plot([dist_offchannel]*2, ax.get_ylim(), 'r--', lw=0.5)\n",
    "ax.plot([dist_channel]*2, ax.get_ylim(), 'b--', lw=0.5)\n",
    "\n",
    "\n",
    "fig.set_size_inches(3.5, 2)\n",
    "fig.tight_layout()"
   ]
  },
  {
   "cell_type": "markdown",
   "metadata": {},
   "source": [
    "*Finding*: The stopping power calculator works. But the trajectory is rough, and this might be a sign of a problem with the ODE solver making mistakes in the integration due to too large of timesteps."
   ]
  },
  {
   "cell_type": "markdown",
   "metadata": {},
   "source": [
    "### Determine a Good Step Size\n",
    "Study how well the stopping distance converages with step size. This off-channel should give a better representation of a 'hard to converge' integral than the channel (i.e., it is more likely to be strongly affected by timestep size), which is visible in the relative smoothness of the channel trajecotry compared to the $[4 2 1]$ trajectory.  "
   ]
  },
  {
   "cell_type": "code",
   "execution_count": 19,
   "metadata": {},
   "outputs": [],
   "source": [
    "step_sizes = np.logspace(-1, 2, 12)"
   ]
  },
  {
   "cell_type": "code",
   "execution_count": 20,
   "metadata": {},
   "outputs": [
    {
     "name": "stdout",
     "output_type": "stream",
     "text": [
      "Step: 341175 - Time: 34117.227742848256 - Velocity: 0.3999722207157015 - Position: 76820.464889797053\n",
      "Step: 181998 - Time: 34102.56793037682 - Velocity: 0.399998473411443 - Position: 76811.71465593272575\n",
      "Step: 97231 - Time: 34138.54155482884 - Velocity: 0.3998321972660419 - Position: 76810.8813266928964\n",
      "Step: 51864 - Time: 34120.69471134291 - Velocity: 0.39996944225257214 - Position: 76705.172308060145\n",
      "Step: 27780 - Time: 34243.828715338735 - Velocity: 0.39990293405021615 - Position: 77171.45841671225\n",
      "Step: 14851 - Time: 34298.77333771299 - Velocity: 0.39909623280403855 - Position: 77302.309132189081\n",
      "Step: 8010 - Time: 34654.511110801584 - Velocity: 0.39885972553613747 - Position: 78040.06817553296\n",
      "Step: 4126 - Time: 33429.47859257726 - Velocity: 0.39931139110570857 - Position: 72702.007428150985\n",
      "Step: 2388 - Time: 36162.51805033634 - Velocity: 0.39687331990287605 - Position: 77839.57841192294\n",
      "Step: 1431 - Time: 39349.08842834603 - Velocity: 0.3996906641604254 - Position: 74328.086715221681\n",
      "Step: 526 - Time: 42145.11227556197 - Velocity: 0.3907663253164118 - Position: 102062.836985456196\n"
     ]
    }
   ],
   "source": [
    "stop_dists = []\n",
    "stop_trajs = []\n",
    "for m in step_sizes:\n",
    "    try: \n",
    "        stop_comp.max_step = m  # Set the step size\n",
    "        d, s = stop_comp.compute_stopping_distance([0, 0.75, 0.75], off_channel, output=100)\n",
    "        stop_dists.append(d)\n",
    "        stop_trajs.append(s)\n",
    "    except RuntimeError:\n",
    "        stop_dists.append(np.nan)\n",
    "        stop_trajs.append(None)"
   ]
  },
  {
   "cell_type": "code",
   "execution_count": 21,
   "metadata": {},
   "outputs": [
    {
     "data": {
      "image/png": "[encoded data removed]",
      "text/plain": [
       "<Figure size 252x144 with 1 Axes>"
      ]
     },
     "metadata": {
      "needs_background": "light"
     },
     "output_type": "display_data"
    }
   ],
   "source": [
    "fig, ax = plt.subplots()\n",
    "\n",
    "# Plot the results\n",
    "ax.fill_between([step_sizes.min(), step_sizes.max()], [stop_dists[0] * 1.01]*2, \n",
    "                [stop_dists[0] * 0.99]*2, color='gray', alpha=0.5)\n",
    "\n",
    "ax.semilogx(step_sizes, stop_dists, 'o-')\n",
    "\n",
    "ax.set_ylim(stop_dists[0] * 0.9, stop_dists[0] * 1.1)\n",
    "\n",
    "ax.set_xlabel('Timestep Size (a.u.)')\n",
    "ax.set_ylabel('Stopping Distance ($a_B$)')\n",
    "\n",
    "fig.set_size_inches(3.5, 2)\n",
    "fig.tight_layout()"
   ]
  },
  {
   "cell_type": "markdown",
   "metadata": {},
   "source": [
    "Find the largest timestep that is within 1% of the 0.1 a.u. timestep result"
   ]
  },
  {
   "cell_type": "code",
   "execution_count": 22,
   "metadata": {},
   "outputs": [
    {
     "name": "stdout",
     "output_type": "stream",
     "text": [
      "Optimal timestep: 2.31\n"
     ]
    }
   ],
   "source": [
    "for i, _ in enumerate(step_sizes):\n",
    "    if abs(stop_dists[i] - stop_dists[0]) / stop_dists[0] > 0.01:\n",
    "        break\n",
    "best_timestep = step_sizes[i - 1]\n",
    "print('Optimal timestep: {:.2f}'.format(best_timestep))"
   ]
  },
  {
   "cell_type": "markdown",
   "metadata": {},
   "source": [
    "Based on this result, we'll pick a timestep size of 1 a.u. to be conservative"
   ]
  },
  {
   "cell_type": "code",
   "execution_count": 23,
   "metadata": {},
   "outputs": [],
   "source": [
    "stop_comp.max_step = 1\n",
    "assert 1 < best_timestep"
   ]
  },
  {
   "cell_type": "markdown",
   "metadata": {},
   "source": [
    "## Save the Computer\n",
    "Save it to disk for later use"
   ]
  },
  {
   "cell_type": "code",
   "execution_count": 24,
   "metadata": {},
   "outputs": [],
   "source": [
    "with open('stop_dist_computer.pkl', 'wb') as fp:\n",
    "    pkl.dump(stop_comp, fp)"
   ]
  },
  {
   "cell_type": "code",
   "execution_count": null,
   "metadata": {},
   "outputs": [],
   "source": []
  }
 ],
 "metadata": {
  "kernelspec": {
   "display_name": "venv",
   "language": "python",
   "name": "venv"
  },
  "language_info": {
   "codemirror_mode": {
    "name": "ipython",
    "version": 3
   },
   "file_extension": ".py",
   "mimetype": "text/x-python",
   "name": "python",
   "nbconvert_exporter": "python",
   "pygments_lexer": "ipython3",
   "version": "3.9.16"
  }
 },
 "nbformat": 4,
 "nbformat_minor": 4
}
